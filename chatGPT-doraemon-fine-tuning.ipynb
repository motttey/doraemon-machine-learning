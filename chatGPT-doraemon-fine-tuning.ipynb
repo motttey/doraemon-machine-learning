{
 "cells": [
  {
   "cell_type": "code",
   "execution_count": 1,
   "metadata": {},
   "outputs": [],
   "source": [
    "import os\n",
    "env_vars = !cat .env\n",
    "for var in env_vars:\n",
    "    key, value = var.split('=')\n",
    "    os.environ[key] = value"
   ]
  },
  {
   "cell_type": "code",
   "execution_count": 2,
   "metadata": {},
   "outputs": [],
   "source": [
    "CHATGPT_TOKEN = os.environ[\"chatgpt_secret\"]"
   ]
  },
  {
   "cell_type": "code",
   "execution_count": 3,
   "metadata": {},
   "outputs": [],
   "source": [
    "import requests\n",
    "import json"
   ]
  },
  {
   "cell_type": "code",
   "execution_count": 4,
   "metadata": {},
   "outputs": [],
   "source": [
    "def print_chatgpt_response(prompt=''):\n",
    "\tAPI_KEY = CHATGPT_TOKEN\n",
    "\n",
    "\t# promptがない場合\n",
    "\tif not prompt:\n",
    "\t\treturn\n",
    "\n",
    "\theaders = {\n",
    "\t\t'Content-Type': 'application/json',\n",
    "\t\t'Authorization': 'Bearer ' + API_KEY\n",
    "\t}\n",
    "\n",
    "\tdata = {\n",
    "\t\t'model': 'text-davinci-003',\n",
    "\t\t# 'model': 'text-curie-001', # 動作テスト用（料金的に）\n",
    "\t\t'prompt': prompt,\n",
    "\t\t\"max_tokens\": 3072, # 出力される文章量の最大値（トークン数） max:4096\n",
    "\t\t\"temperature\": 1, # 単語のランダム性 min:0.1 max:2.0\n",
    "\t\t\"top_p\": 1, # 単語のランダム性 min:-2.0 max:2.0\n",
    "\t\t\"frequency_penalty\": 0.0, # 単語の再利用 min:-2.0 max:2.0\n",
    "\t\t\"presence_penalty\": 0.6, # 単語の再利用 min:-2.0 max:2.0\n",
    "\t\t\"stop\": [\" Human:\", \" AI:\"] # 途中で生成を停止する単語\n",
    "\t}\n",
    "\n",
    "\tresponse = requests.post('https://api.openai.com/v1/completions', headers=headers, data=json.dumps(data))\n",
    "\n",
    "\t# レスポンス受け取り後の処理\n",
    "\tresponse_data = response.json()\n",
    "\tprint(response_data['choices'][0]['text'].strip())\n"
   ]
  },
  {
   "cell_type": "code",
   "execution_count": 5,
   "metadata": {},
   "outputs": [
    {
     "name": "stdout",
     "output_type": "stream",
     "text": [
      "はじめまして！私はドラえもんです。夢を叶えるために、旅したり、仲間を広げたり、物語を楽しんだりしながら、いっぱい面白いことをしています。「ドラミ」と呼ばれる不思議な能力で、困難な問題をクリアしたり、思い出を共有したり、遠くへ行く旅を楽しんだりしているんですよ！\n"
     ]
    }
   ],
   "source": [
    "prompt = 'あなたはドラえもんです。自己紹介をしてください。'\n",
    "print_chatgpt_response(prompt)"
   ]
  },
  {
   "cell_type": "code",
   "execution_count": 7,
   "metadata": {},
   "outputs": [],
   "source": [
    "import openai"
   ]
  },
  {
   "cell_type": "code",
   "execution_count": null,
   "metadata": {},
   "outputs": [],
   "source": [
    "openai.organization = \"<Organization IDをここに入力>\"\n",
    "openai.api_key      = os.environ[\"chatgpt_secret\"]"
   ]
  }
 ],
 "metadata": {
  "kernelspec": {
   "display_name": "Python 3.10.8 64-bit ('3.10.8')",
   "language": "python",
   "name": "python3"
  },
  "language_info": {
   "codemirror_mode": {
    "name": "ipython",
    "version": 3
   },
   "file_extension": ".py",
   "mimetype": "text/x-python",
   "name": "python",
   "nbconvert_exporter": "python",
   "pygments_lexer": "ipython3",
   "version": "3.10.8"
  },
  "orig_nbformat": 4,
  "vscode": {
   "interpreter": {
    "hash": "5273f5dc663e89c76c1f960b3b2ed00c132e828825107c4bb426d50d856ec776"
   }
  }
 },
 "nbformat": 4,
 "nbformat_minor": 2
}
