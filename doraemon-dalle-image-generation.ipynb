{
 "cells": [
  {
   "cell_type": "code",
   "execution_count": null,
   "metadata": {},
   "outputs": [],
   "source": [
    "%pip install openai --upgrade"
   ]
  },
  {
   "cell_type": "code",
   "execution_count": null,
   "metadata": {},
   "outputs": [],
   "source": [
    "from openai._client import OpenAI\n",
    "import os\n",
    "from IPython.display import Image\n",
    "\n",
    "\n",
    "# https://community.openai.com/t/cannot-import-name-openai-from-openai/486147/19\n",
    "CHATGPT_TOKEN = os.environ[\"chatgpt_secret\"]\n",
    "client = OpenAI(api_key = CHATGPT_TOKEN)"
   ]
  },
  {
   "cell_type": "code",
   "execution_count": null,
   "metadata": {},
   "outputs": [],
   "source": [
    "response = client.images.generate(\n",
    "  model=\"dall-e-3\",\n",
    "  prompt=\"かわいいドラえもん\",\n",
    "  size=\"1024x1024\",\n",
    "  quality=\"standard\",\n",
    "  n=1,\n",
    ")\n",
    "\n",
    "image_url = response.data[0].url"
   ]
  },
  {
   "cell_type": "code",
   "execution_count": null,
   "metadata": {},
   "outputs": [],
   "source": [
    "from IPython.display import Image\n",
    "# from IPython.core.display import HTML\n",
    "display(Image(url= image_url, width=300, height=300))"
   ]
  },
  {
   "cell_type": "code",
   "execution_count": null,
   "metadata": {},
   "outputs": [],
   "source": [
    "response = client.images.edit(\n",
    "  model=\"dall-e-2\",\n",
    "  image=open(\"doratan2019_source.png\", \"rb\"),\n",
    "  mask=open(\"doratan2019_mask.png\", \"rb\"),\n",
    "  prompt=\"Doraemon and his friends are having a party at the dining table, Japanese Anime style\",\n",
    "  n=4,\n",
    "  size=\"1024x1024\"\n",
    ")"
   ]
  },
  {
   "cell_type": "code",
   "execution_count": null,
   "metadata": {},
   "outputs": [],
   "source": [
    "display(Image(url= image_url, width=300, height=300))"
   ]
  },
  {
   "cell_type": "code",
   "execution_count": null,
   "metadata": {},
   "outputs": [],
   "source": [
    "for data in response.data: \n",
    "    image_url = data.url\n",
    "    print(image_url)\n",
    "    display(Image(url= image_url, width=300, height=300))"
   ]
  },
  {
   "cell_type": "code",
   "execution_count": null,
   "metadata": {},
   "outputs": [],
   "source": [
    "for data in response.data: \n",
    "    image_url = data.url\n",
    "    print(image_url)\n",
    "    display(Image(url= image_url, width=300, height=300))"
   ]
  },
  {
   "cell_type": "code",
   "execution_count": null,
   "metadata": {},
   "outputs": [],
   "source": [
    "response = client.images.edit(\n",
    "  model=\"dall-e-2\",\n",
    "  image=open(\"dora_source.png\", \"rb\"),\n",
    "  mask=open(\"dora_mask.png\", \"rb\"),\n",
    "  prompt=\"Doraemon, a robot cat in 22 century\",\n",
    "  n=2,\n",
    "  size=\"512x512\"\n",
    ")"
   ]
  },
  {
   "cell_type": "code",
   "execution_count": null,
   "metadata": {},
   "outputs": [],
   "source": [
    "for data in response.data: \n",
    "    image_url = data.url\n",
    "    print(image_url)\n",
    "    display(Image(url= image_url, width=300, height=300))"
   ]
  },
  {
   "cell_type": "code",
   "execution_count": null,
   "metadata": {},
   "outputs": [],
   "source": [
    "response = client.images.create_variation(\n",
    "  model=\"dall-e-2\",\n",
    "  image=open(\"raza.png\", \"rb\"),\n",
    "  n=2,\n",
    "  size=\"512x512\"\n",
    ")"
   ]
  },
  {
   "cell_type": "code",
   "execution_count": null,
   "metadata": {},
   "outputs": [],
   "source": [
    "for data in response.data: \n",
    "    image_url = data.url\n",
    "    print(image_url)\n",
    "    display(Image(url= image_url, width=300, height=300))"
   ]
  },
  {
   "cell_type": "code",
   "execution_count": null,
   "metadata": {},
   "outputs": [],
   "source": [
    "for data in response.data: \n",
    "    image_url = data.url\n",
    "    print(image_url)\n",
    "    display(Image(url= image_url, width=300, height=300))"
   ]
  }
 ],
 "metadata": {
  "kernelspec": {
   "display_name": "Python 3",
   "language": "python",
   "name": "python3"
  },
  "language_info": {
   "codemirror_mode": {
    "name": "ipython",
    "version": 3
   },
   "file_extension": ".py",
   "mimetype": "text/x-python",
   "name": "python",
   "nbconvert_exporter": "python",
   "pygments_lexer": "ipython3",
   "version": "3.10.8"
  },
  "orig_nbformat": 4
 },
 "nbformat": 4,
 "nbformat_minor": 2
}
