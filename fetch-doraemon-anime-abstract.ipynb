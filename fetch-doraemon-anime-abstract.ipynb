{
 "cells": [
  {
   "cell_type": "code",
   "execution_count": 7,
   "id": "10775833",
   "metadata": {},
   "outputs": [],
   "source": [
    "import requests\n",
    "import re\n",
    "from bs4 import BeautifulSoup"
   ]
  },
  {
   "cell_type": "code",
   "execution_count": 2,
   "id": "a8cacfc1",
   "metadata": {},
   "outputs": [],
   "source": [
    "vgm_url = 'https://www.tv-asahi.co.jp/doraemon/story/0719/'\n",
    "html_text = requests.get(vgm_url).text\n",
    "soup = BeautifulSoup(html_text, 'html.parser')"
   ]
  },
  {
   "cell_type": "code",
   "execution_count": 12,
   "id": "aca6b601",
   "metadata": {},
   "outputs": [
    {
     "name": "stdout",
     "output_type": "stream",
     "text": [
      "2\n",
      "『雲かためガス』でかためた雲の上で昼寝（ね）をしていたのび太は、しずかと幸せな生活を送っている夢（ゆめ）を見て、幸せな気持ちになる。その後、自分の部屋にもどったところ、ドラえもんのすがたはなく、『タイムテレビ』らしきものが置きっぱなしになっていた。\n",
      "　勝手にスイッチを入れて、未来のしずかの様子を見ることにしたのび太。すると、大人になったしずかが話しかけていたのは、自分の息子の“ノビスケ”ではなく、”出木杉そっくりの“ヒデヨ”という男の子だった！\n",
      "　ママにお手伝いをたのまれてしまったのび太は、大急ぎでそうじと皿あらいをすませようとするが、急ぎすぎて雑（ざつ）になってしまう。見かねたドラえもんは、料理やそうじなど家のことが何でも上手になる『家庭科エプロン』を取り出すが、のび太はそんなものは上手になんかなりたくないと拒否（きょひ）。結婚（けっこん）したらしずかにやってもらうからいいと言い出す…。\n",
      "　その後、ふたたびタイムテレビでヒデヨを確認（かくにん）したのび太は、しずかが出木杉を結婚相手にえらぶのかをたしかめようとしずかの家に向かうが、しずかは出木杉の家に行っていて…！？\n",
      "学校の帰り道、ジャイアンたちにランドセルを取り上げられ、こわそうな犬がいる家の庭に投げこまれてしまったのび太。どうにかランドセルは取りもどしたものの、犬にやられてボロボロになってしまう…。\n",
      "　そんなのび太を見たドラえもんは、ジャイアンたちをこらしめようと、自分と相手の立場を逆転（ぎゃくてん）させることができる『タチバガン』を取り出す。ドラえもんの説明が理解（りかい）できないのび太だったが、階だんから転げ落ちた反動で、ドラえもんにむけてタチバガンを撃（う）ってしまう。すると、二人の立場が入れかわり、のび太がドラえもんを注意していた。\n",
      "　タチバガンの使い方と効果（こうか）を理解したのび太は、ママにお使いをたのまれると、またドラえもんを撃ち、ドラえもんをお使いに行かせてしまう。その後、ジャイアンとスネ夫をさがすとちゅうで先生に見つかってしまったのび太は、お説教を受けそうになるが、タチバガンで近くの通行人を撃ち、うまく切りぬけることにも成功する。\n",
      "　調子に乗ったのび太は、その後も次々とタチバガンを使って…！？\n"
     ]
    }
   ],
   "source": [
    "abstracts_list = soup.find_all('p', class_=\"txt_idt\")\n",
    "print(len(abstracts_list))\n",
    "\n",
    "for abstract in abstracts_list:\n",
    "    print(abstract.text)"
   ]
  },
  {
   "cell_type": "code",
   "execution_count": null,
   "id": "198c3d10",
   "metadata": {},
   "outputs": [],
   "source": []
  }
 ],
 "metadata": {
  "kernelspec": {
   "display_name": "Python 3 (ipykernel)",
   "language": "python",
   "name": "python3"
  },
  "language_info": {
   "codemirror_mode": {
    "name": "ipython",
    "version": 3
   },
   "file_extension": ".py",
   "mimetype": "text/x-python",
   "name": "python",
   "nbconvert_exporter": "python",
   "pygments_lexer": "ipython3",
   "version": "3.9.5"
  }
 },
 "nbformat": 4,
 "nbformat_minor": 5
}
