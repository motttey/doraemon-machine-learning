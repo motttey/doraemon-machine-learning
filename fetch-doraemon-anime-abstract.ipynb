{
 "cells": [
  {
   "cell_type": "code",
   "execution_count": 3,
   "id": "10775833",
   "metadata": {},
   "outputs": [],
   "source": [
    "import requests\n",
    "import time\n",
    "from bs4 import BeautifulSoup\n",
    "import re"
   ]
  },
  {
   "cell_type": "code",
   "execution_count": 4,
   "id": "1f1314e9",
   "metadata": {},
   "outputs": [],
   "source": [
    "def fetch_abstract(index, max_length):\n",
    "    url = 'https://www.tv-asahi.co.jp/doraemon/story/{0}/'.format(index)\n",
    "    html_text = requests.get(url).text\n",
    "    soup = BeautifulSoup(html_text, 'html.parser')\n",
    "\n",
    "    # 整構造でない場合はテキスト全部取得する\n",
    "    p_list = soup.find_all('p', class_=\"txt_idt\") if len(soup.find_all('p', class_=\"txt_idt\")) > 0 else soup.find('div', class_='contentsarea').find_all('p')\n",
    "    abstracts_list = [\n",
    "        asbstract_dom.text\n",
    "        for asbstract_dom in p_list\n",
    "    ]\n",
    "    \n",
    "    title = soup.find('h2').text if (len(soup.find_all('h2')) > 0) else soup.find('p').find('strong').text\n",
    "    broadcasting_date = soup.find('h2').find('span').text\n",
    "\n",
    "    return {\n",
    "        \"index\": index,\n",
    "        \"title\": title,\n",
    "        \"broadcasting_date\": broadcasting_date.replace('['),\n",
    "        # 50文字ある文章のみ抽出\n",
    "        \"abstracts_list\": [asbstract for asbstract in abstracts_list if len(asbstract) > max_length]\n",
    "    }\n"
   ]
  },
  {
   "cell_type": "code",
   "execution_count": 5,
   "id": "669ca84f",
   "metadata": {},
   "outputs": [
    {
     "name": "stdout",
     "output_type": "stream",
     "text": [
      "325\n",
      "[2013年3月15日放送]\n",
      "326\n",
      "[2013年4月12日放送]\n"
     ]
    }
   ],
   "source": [
    "start = 325\n",
    "end = 326\n",
    "max_length = 50\n",
    "\n",
    "stories_list = []\n",
    "for i in range(start, end+1):\n",
    "    s_zero = str(i).zfill(4)\n",
    "    print(i)\n",
    "    stories_list.append(\n",
    "        fetch_abstract(s_zero, max_length)\n",
    "    )\n",
    "    time.sleep(5)"
   ]
  },
  {
   "cell_type": "code",
   "execution_count": 23,
   "id": "a1ef78e9",
   "metadata": {},
   "outputs": [],
   "source": [
    "import json\n",
    "with open(\"output_stories.json\", 'w') as f:\n",
    "    json.dump(stories_list, f)"
   ]
  }
 ],
 "metadata": {
  "kernelspec": {
   "display_name": "Python 3.9.5 64-bit ('3.9.5')",
   "language": "python",
   "name": "python3"
  },
  "language_info": {
   "codemirror_mode": {
    "name": "ipython",
    "version": 3
   },
   "file_extension": ".py",
   "mimetype": "text/x-python",
   "name": "python",
   "nbconvert_exporter": "python",
   "pygments_lexer": "ipython3",
   "version": "3.9.5"
  },
  "vscode": {
   "interpreter": {
    "hash": "18a25265ee43aa7e16b48646ef60b281b8e56b39f58e260209b2fb52b666fc14"
   }
  }
 },
 "nbformat": 4,
 "nbformat_minor": 5
}
