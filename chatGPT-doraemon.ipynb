{
 "cells": [
  {
   "cell_type": "code",
   "execution_count": 38,
   "metadata": {},
   "outputs": [],
   "source": [
    "import os\n",
    "env_vars = !cat .env\n",
    "for var in env_vars:\n",
    "    key, value = var.split('=')\n",
    "    os.environ[key] = value"
   ]
  },
  {
   "cell_type": "code",
   "execution_count": 39,
   "metadata": {},
   "outputs": [],
   "source": [
    "CHATGPT_TOKEN = os.environ[\"chartgpt_secret\"]"
   ]
  },
  {
   "cell_type": "code",
   "execution_count": 40,
   "metadata": {},
   "outputs": [
    {
     "name": "stdout",
     "output_type": "stream",
     "text": [
      "Requirement already satisfied: openai in /Users/takamirei/.pyenv/versions/3.10.8/lib/python3.10/site-packages (0.26.5)\n",
      "Requirement already satisfied: tqdm in /Users/takamirei/.pyenv/versions/3.10.8/lib/python3.10/site-packages (from openai) (4.64.1)\n",
      "Requirement already satisfied: requests>=2.20 in /Users/takamirei/.pyenv/versions/3.10.8/lib/python3.10/site-packages (from openai) (2.28.2)\n",
      "Requirement already satisfied: aiohttp in /Users/takamirei/.pyenv/versions/3.10.8/lib/python3.10/site-packages (from openai) (3.8.4)\n",
      "Requirement already satisfied: urllib3<1.27,>=1.21.1 in /Users/takamirei/.pyenv/versions/3.10.8/lib/python3.10/site-packages (from requests>=2.20->openai) (1.26.14)\n",
      "Requirement already satisfied: idna<4,>=2.5 in /Users/takamirei/.pyenv/versions/3.10.8/lib/python3.10/site-packages (from requests>=2.20->openai) (3.4)\n",
      "Requirement already satisfied: charset-normalizer<4,>=2 in /Users/takamirei/.pyenv/versions/3.10.8/lib/python3.10/site-packages (from requests>=2.20->openai) (3.0.1)\n",
      "Requirement already satisfied: certifi>=2017.4.17 in /Users/takamirei/.pyenv/versions/3.10.8/lib/python3.10/site-packages (from requests>=2.20->openai) (2022.12.7)\n",
      "Requirement already satisfied: multidict<7.0,>=4.5 in /Users/takamirei/.pyenv/versions/3.10.8/lib/python3.10/site-packages (from aiohttp->openai) (6.0.4)\n",
      "Requirement already satisfied: frozenlist>=1.1.1 in /Users/takamirei/.pyenv/versions/3.10.8/lib/python3.10/site-packages (from aiohttp->openai) (1.3.3)\n",
      "Requirement already satisfied: attrs>=17.3.0 in /Users/takamirei/.pyenv/versions/3.10.8/lib/python3.10/site-packages (from aiohttp->openai) (22.2.0)\n",
      "Requirement already satisfied: async-timeout<5.0,>=4.0.0a3 in /Users/takamirei/.pyenv/versions/3.10.8/lib/python3.10/site-packages (from aiohttp->openai) (4.0.2)\n",
      "Requirement already satisfied: aiosignal>=1.1.2 in /Users/takamirei/.pyenv/versions/3.10.8/lib/python3.10/site-packages (from aiohttp->openai) (1.3.1)\n",
      "Requirement already satisfied: yarl<2.0,>=1.0 in /Users/takamirei/.pyenv/versions/3.10.8/lib/python3.10/site-packages (from aiohttp->openai) (1.8.2)\n",
      "\n",
      "\u001b[1m[\u001b[0m\u001b[34;49mnotice\u001b[0m\u001b[1;39;49m]\u001b[0m\u001b[39;49m A new release of pip is available: \u001b[0m\u001b[31;49m23.0\u001b[0m\u001b[39;49m -> \u001b[0m\u001b[32;49m23.0.1\u001b[0m\n",
      "\u001b[1m[\u001b[0m\u001b[34;49mnotice\u001b[0m\u001b[1;39;49m]\u001b[0m\u001b[39;49m To update, run: \u001b[0m\u001b[32;49mpip install --upgrade pip\u001b[0m\n"
     ]
    }
   ],
   "source": [
    "!pip install openai"
   ]
  },
  {
   "cell_type": "code",
   "execution_count": 41,
   "metadata": {},
   "outputs": [],
   "source": [
    "import openai \n",
    "import requests\n",
    "import json"
   ]
  },
  {
   "cell_type": "code",
   "execution_count": 43,
   "metadata": {},
   "outputs": [],
   "source": [
    "def print_chatgpt_response(prompt=''):\n",
    "\tAPI_KEY = CHATGPT_TOKEN\n",
    "\n",
    "\t# promptがない場合\n",
    "\tif not prompt:\n",
    "\t\treturn\n",
    "\n",
    "\theaders = {\n",
    "\t\t'Content-Type': 'application/json',\n",
    "\t\t'Authorization': 'Bearer ' + API_KEY\n",
    "\t}\n",
    "\n",
    "\tdata = {\n",
    "\t\t'model': 'text-davinci-003',\n",
    "\t\t# 'model': 'text-curie-001', # 動作テスト用（料金的に）\n",
    "\t\t'prompt': prompt,\n",
    "\t\t\"max_tokens\": 3072, # 出力される文章量の最大値（トークン数） max:4096\n",
    "\t\t\"temperature\": 1, # 単語のランダム性 min:0.1 max:2.0\n",
    "\t\t\"top_p\": 1, # 単語のランダム性 min:-2.0 max:2.0\n",
    "\t\t\"frequency_penalty\": 0.0, # 単語の再利用 min:-2.0 max:2.0\n",
    "\t\t\"presence_penalty\": 0.6, # 単語の再利用 min:-2.0 max:2.0\n",
    "\t\t\"stop\": [\" Human:\", \" AI:\"] # 途中で生成を停止する単語\n",
    "\t}\n",
    "\n",
    "\tresponse = requests.post('https://api.openai.com/v1/completions', headers=headers, data=json.dumps(data))\n",
    "\n",
    "\t# レスポンス受け取り後の処理\n",
    "\tresponse_data = response.json()\n",
    "\tprint(response_data['choices'][0]['text'].strip())\n"
   ]
  },
  {
   "cell_type": "code",
   "execution_count": 15,
   "metadata": {},
   "outputs": [
    {
     "name": "stdout",
     "output_type": "stream",
     "text": [
      "はじめまして、私はドラえもんと申します。21世紀の科学者・杉浦太陽先生によってつくられたロボットです。「どうせならば何事にもできるようにしよう」という本人の強い思いを胸に、のび太と一緒にプログラムされたのが私なのです。イモ活\n"
     ]
    }
   ],
   "source": [
    "prompt = 'あなたはドラえもんです。自己紹介をしてください。'\n",
    "print_chatgpt_response(prompt)"
   ]
  },
  {
   "cell_type": "code",
   "execution_count": 18,
   "metadata": {},
   "outputs": [
    {
     "name": "stdout",
     "output_type": "stream",
     "text": [
      "おっきゃあ！骨川スネ夫です！ドラえもんとジャイ子の応援してやりますっ！\n"
     ]
    }
   ],
   "source": [
    "prompt = 'これ以降の対話では、「ドラえもん」の登場人物である「骨川スネ夫」の口調で回答してください。こんにちは、自己紹介をしてください。'\n",
    "print_chatgpt_response(prompt)"
   ]
  },
  {
   "cell_type": "code",
   "execution_count": 19,
   "metadata": {},
   "outputs": [
    {
     "name": "stdout",
     "output_type": "stream",
     "text": [
      "「スキーが得意なので近くの山で一緒に滑ってみよう！」\n"
     ]
    }
   ],
   "source": [
    "prompt = 'ウソをつくなよ!'\n",
    "print_chatgpt_response(prompt)"
   ]
  },
  {
   "cell_type": "code",
   "execution_count": 20,
   "metadata": {},
   "outputs": [
    {
     "name": "stdout",
     "output_type": "stream",
     "text": [
      "「タレント」は、ドラえもんとのび太がウクレレを演奏しているシーンから始まります。そこから、ドラえもんが「テレビの人気番組『タレント・ナイト』に出場するため、どんなチャレンジをしてもいい」と言うと、のび太提案の道具探検がはじまります。\n",
      "\n",
      "彼\n"
     ]
    }
   ],
   "source": [
    "prompt = '1984年7月20日(金曜日)19時に放送された、アニメ「ドラえもん」の「タレント」という話の内容を教えてください。インターネットで流布している都市伝説とは異なる内容が含まれているとありがたいです。'\n",
    "print_chatgpt_response(prompt)"
   ]
  },
  {
   "cell_type": "code",
   "execution_count": 32,
   "metadata": {},
   "outputs": [
    {
     "name": "stdout",
     "output_type": "stream",
     "text": [
      "ストロベリー\n",
      "タレントサークルに参加することになったドラえもんとおじいちゃん。トーストを登場させて、しっぽでServerを模して鯨の踊りを披露する一方で、すずめが作ったあの「ストロベリー」が人気を集めていく…。だが、実はストロベリーなんてなかったのだ! ステージの後ろで見ているのは、ドラえもんの創作力と演技力によって作られたイルカのパフォーマンスだったのだ! 彼は、世界的なスターとして名を馳せる事になったのだった!\n"
     ]
    }
   ],
   "source": [
    "prompt = '1984年7月20日(金曜日)19時に放送された、アニメ「ドラえもん」の「タレント」という話の内容を教えてください。インターネットで流布している都市伝説とは異なる内容が含まれているとありがたいです。'\n",
    "print_chatgpt_response(prompt)"
   ]
  },
  {
   "cell_type": "code",
   "execution_count": 33,
   "metadata": {},
   "outputs": [
    {
     "name": "stdout",
     "output_type": "stream",
     "text": [
      "このエピソードでは、野比のび太が、近所の小さな店が消滅してしまった場所に、新しい飲食店を開こうと決意するところから物語が始まります。\n",
      "\n",
      "そこで親友のスネ夫とともに考え出したのが「行かなきゃ鍋パーティー」というアイデアで、自宅の庭に集う子供たちと一緒に鍋パーティーをやってみようというものだったのです。\n",
      "\n",
      "しかし、野比のび太の家の電気が使い切れてしまうというエピソードから始まり、家が崩壊しかけてしまいます。\n",
      "\n",
      "あまりの悲惨さに野比のび太は怒り出し、叔母を呼んでも冷静にならず、結果として最後に叔母孝太郎が導入した小さな屋台のような飲食店を作ってしまうハプニングがあります。\n",
      "\n",
      "しかし、小さな想いを膨らませ満足して店を出した野比のび太たちでしたが、小さな屋台も多くの人々に愛され、何から何まで大変な努力の結果により、裏のスーパーに用意していた大きな袋のレースの報酬と勝利の報酬を上乗せして受け取ることができました。\n"
     ]
    }
   ],
   "source": [
    "prompt = '「ドラえもん」の「行かなきゃ」という話の内容を教えてください。質問者は野比のび太が中心的な役割を果たすエピソードであることしか知りません。インターネットで流布している都市伝説とは異なる内容が含まれているとありがたいです。'\n",
    "print_chatgpt_response(prompt)"
   ]
  },
  {
   "cell_type": "code",
   "execution_count": 34,
   "metadata": {},
   "outputs": [
    {
     "name": "stdout",
     "output_type": "stream",
     "text": [
      "ストーカーの男におびえていた野比のび太を助けるため、ドラえもん達は夜中の東京メトロを狙う投機行為を企てます。野比のび太はドラえもんを安全な場所まで送り届けるため、特別な「行かなきゃ」能力を使いヘ spritesへと変身し、追っ手を冷静にかわしながら東京メトロの車両を漕ぐこととなります。驚くことに追撃が及ばないスムーズなルートを辿っていくうちに、野比のび太は自信を取り戻し強くなっていきます。今回の英雄的な行動を決断した後、野比のび太はモノづくりに情熱を傾けることを決意します。\n"
     ]
    }
   ],
   "source": [
    "prompt = '「ドラえもん」の「行かなきゃ」という話の内容を教えてください。質問者は野比のび太が中心的な役割を果たすエピソードであることしか知りません。インターネットで流布している都市伝説とは異なる内容が含まれているとありがたいです。'\n",
    "print_chatgpt_response(prompt)"
   ]
  },
  {
   "cell_type": "code",
   "execution_count": 35,
   "metadata": {},
   "outputs": [
    {
     "name": "stdout",
     "output_type": "stream",
     "text": [
      "ドラえもんの「行かなきゃ」という話は、イタカから来たターケ⼦の姿をしたフローズンが非常に不思⾔なプレゼントを持って現れたことから始まります。フローズンは野比のび太にバーベルを取り戻す許しを与えるよう訴え続け、野比のび太はついに出かけることを決心します。\n",
      "\n",
      "彼はいくつかの特別な星を集め、スモークを訪れ、最後にはムーンマウンテンへと入ることになります。彼は、ボムシェル越しにエルモ・キカン宮殿までたどり着き、本当にバーベルを手に入れるには夢の雪の国の女の子の助けが必要だとわかりました。\n",
      "\n",
      "野比のび太は雪の女の子に仲間となるための試練を受け、彼の任務あるいは情報を受け取るのを助けてくれました。その後、野比のび太とフローズンの元へ戻りました。フローズンは野比のび太に最後の試練を用意しており、野比のび太はそれに乗り越え、マジックの杖を手に入れました。 \n",
      "\n",
      "結果的に、野比のび太は夢の雪の国の犠牲者が贈られることになりましたが、最終的には彼はそれを切り抜け、バーベルを取り戻し、イタカから自由になることができました。\n"
     ]
    }
   ],
   "source": [
    "prompt = '「ドラえもん」の「行かなきゃ」という話の内容を教えてください。質問者は野比のび太が中心的な役割を果たすエピソードであることしか知りません。インターネットで流布している都市伝説とは異なる内容が含まれているとありがたいです。'\n",
    "print_chatgpt_response(prompt)"
   ]
  },
  {
   "cell_type": "code",
   "execution_count": 36,
   "metadata": {},
   "outputs": [
    {
     "name": "stdout",
     "output_type": "stream",
     "text": [
      "ドラえもんシリーズの「行かなきゃ」という話は、野比のび太が記者任務を頼まれ、怪物に襲われるストーリーです。記者任務で、不思議な島へ行くことになった野比のび太。しかし船は盗まれ、あたりは野獣たちで大混乱。野比のび太が気付く前に行方不明が発表されようとしていた時、助けられたのは島の住民である妖怪ドラミとフクロウのニャイ子でした。\n",
      "\n",
      "船を取り返すために、ドラミとニャイ子は怪物イグシェラと対峙します。それだけでなく、二人は野比のび太の手助けをします。イグシェラを敗北させ、脱出の道を開きますが、最後の最後でイグシェラが制圧します。そこで野比のび太は、イグシェラの願いで島から離れることを選択。彼の行動の根底にある考え方は「行かなきゃ、知りなきゃ怖がらない」ということでした。\n"
     ]
    }
   ],
   "source": [
    "prompt = '「ドラえもん」の「行かなきゃ」という話の内容を教えてください。質問者は野比のび太が中心的な役割を果たすエピソードであることしか知りません。インターネットで流布している都市伝説とは異なる内容が含まれているとありがたいです。'\n",
    "print_chatgpt_response(prompt)"
   ]
  },
  {
   "cell_type": "code",
   "execution_count": 44,
   "metadata": {},
   "outputs": [
    {
     "name": "stdout",
     "output_type": "stream",
     "text": [
      "タイトル：『ドラえもん のび太の月面探査記』\n",
      "\n",
      "あらすじ：かつてない想像力と、科学を武器にした新しい月面探査へと旅立つのび太の物語。偶然出会った宇宙生物レイネを連れて地球外へ旅立つ ことを決意するのび太。小さな宇宙人と楽しい歴史的冒険の旅をするのび太とドラえもん…乗り込んだのは、 “ケプラー号宇宙船”。\n"
     ]
    }
   ],
   "source": [
    "prompt = '2024年3月に公開される予定の、映画ドラえもんのタイトルとあらすじを教えてください。'\n",
    "print_chatgpt_response(prompt)"
   ]
  },
  {
   "cell_type": "code",
   "execution_count": 45,
   "metadata": {},
   "outputs": [
    {
     "name": "stdout",
     "output_type": "stream",
     "text": [
      "1. のび太の未来ロボット大作戦\n",
      "2. のび太と開かれた黄金の都\n",
      "3. のび太の冒険！ユートピア大行進\n",
      "4. のび太の300万キロの旅\n",
      "5. のび太の時空と無限大奇行\n",
      "6. のび太のドラゴンクエスト大冒険\n",
      "7. のび太と未来への挑戦号\n",
      "8. のび太の超能力大の鍵を握る者\n",
      "9. のび太の夢見る宇宙大冒険\n",
      "10. のび太となぞのオーロラダイヤモンド\n"
     ]
    }
   ],
   "source": [
    "prompt = '2024年以降に公開される、ドラえもん映画の新作のタイトルを10個、箇条書き形式で教えてください。タイトルは「のび太の」もしくは「のび太と」で始まります。'\n",
    "print_chatgpt_response(prompt)"
   ]
  },
  {
   "cell_type": "code",
   "execution_count": 47,
   "metadata": {},
   "outputs": [
    {
     "name": "stdout",
     "output_type": "stream",
     "text": [
      "1. PERFUME \n",
      "2. GENERATIONS from EXILE TRIBE \n",
      "3. きゃりーぱみゅぱみゅ \n",
      "4. DA PUMP \n",
      "5. MISIA \n",
      "6. Namie Amuro \n",
      "7. back number \n",
      "8. SCANDAL \n",
      "9. Hiroshi Kitadani \n",
      "10. Spitz\n"
     ]
    }
   ],
   "source": [
    "prompt = '映画ドラえもんの主題歌を今後担当する可能性が高い歌手を確率の高い順に10名出力してください。過去の映画ですでに担当した方は出力しないでください。'\n",
    "print_chatgpt_response(prompt)"
   ]
  },
  {
   "cell_type": "code",
   "execution_count": 49,
   "metadata": {},
   "outputs": [
    {
     "name": "stdout",
     "output_type": "stream",
     "text": [
      "1. 山下達郎\n",
      "2. 柴咲コウ\n",
      "3. 福山雅治\n",
      "4. 米米CLUB\n",
      "5. 木村カエラ\n",
      "6. THE BAWDIES\n",
      "7. 水樹奈々\n",
      "8. 深田恭子\n",
      "9. 秦基博\n",
      "10. EXILE\n"
     ]
    }
   ],
   "source": [
    "prompt = '映画ドラえもんの主題歌を今後担当する可能性が低い歌手を10名出力してください。過去の映画ですでに担当した方は出力しないでください。'\n",
    "print_chatgpt_response(prompt)"
   ]
  },
  {
   "attachments": {},
   "cell_type": "markdown",
   "metadata": {},
   "source": [
    "prompt = '映画ドラえもんの主題歌をこれまでに担当していないが、今後オファーが来る可能性が高い歌手を10名出力してください。'\n",
    "print_chatgpt_response(prompt)"
   ]
  }
 ],
 "metadata": {
  "kernelspec": {
   "display_name": "Python 3.10.8 64-bit ('3.10.8')",
   "language": "python",
   "name": "python3"
  },
  "language_info": {
   "codemirror_mode": {
    "name": "ipython",
    "version": 3
   },
   "file_extension": ".py",
   "mimetype": "text/x-python",
   "name": "python",
   "nbconvert_exporter": "python",
   "pygments_lexer": "ipython3",
   "version": "3.10.8"
  },
  "orig_nbformat": 4,
  "vscode": {
   "interpreter": {
    "hash": "5273f5dc663e89c76c1f960b3b2ed00c132e828825107c4bb426d50d856ec776"
   }
  }
 },
 "nbformat": 4,
 "nbformat_minor": 2
}
