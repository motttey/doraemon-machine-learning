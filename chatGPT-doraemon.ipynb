{
 "cells": [
  {
   "cell_type": "code",
   "execution_count": 12,
   "metadata": {},
   "outputs": [],
   "source": [
    "import os\n",
    "env_vars = !cat .env\n",
    "for var in env_vars:\n",
    "    key, value = var.split('=')\n",
    "    os.environ[key] = value"
   ]
  },
  {
   "cell_type": "code",
   "execution_count": 13,
   "metadata": {},
   "outputs": [],
   "source": [
    "CHATGPT_TOKEN = os.environ[\"chartgpt_secret\"]"
   ]
  },
  {
   "cell_type": "code",
   "execution_count": 14,
   "metadata": {},
   "outputs": [
    {
     "name": "stdout",
     "output_type": "stream",
     "text": [
      "Requirement already satisfied: revChatGPT in /Users/takamirei/.pyenv/versions/3.10.8/lib/python3.10/site-packages (2.3.5)\n",
      "Requirement already satisfied: OpenAIAuth==0.3.2 in /Users/takamirei/.pyenv/versions/3.10.8/lib/python3.10/site-packages (from revChatGPT) (0.3.2)\n",
      "Requirement already satisfied: requests in /Users/takamirei/.pyenv/versions/3.10.8/lib/python3.10/site-packages (from revChatGPT) (2.28.2)\n",
      "Requirement already satisfied: idna<4,>=2.5 in /Users/takamirei/.pyenv/versions/3.10.8/lib/python3.10/site-packages (from requests->revChatGPT) (3.4)\n",
      "Requirement already satisfied: certifi>=2017.4.17 in /Users/takamirei/.pyenv/versions/3.10.8/lib/python3.10/site-packages (from requests->revChatGPT) (2022.12.7)\n",
      "Requirement already satisfied: charset-normalizer<4,>=2 in /Users/takamirei/.pyenv/versions/3.10.8/lib/python3.10/site-packages (from requests->revChatGPT) (3.0.1)\n",
      "Requirement already satisfied: urllib3<1.27,>=1.21.1 in /Users/takamirei/.pyenv/versions/3.10.8/lib/python3.10/site-packages (from requests->revChatGPT) (1.26.14)\n",
      "\n",
      "\u001b[1m[\u001b[0m\u001b[34;49mnotice\u001b[0m\u001b[1;39;49m]\u001b[0m\u001b[39;49m A new release of pip is available: \u001b[0m\u001b[31;49m23.0\u001b[0m\u001b[39;49m -> \u001b[0m\u001b[32;49m23.0.1\u001b[0m\n",
      "\u001b[1m[\u001b[0m\u001b[34;49mnotice\u001b[0m\u001b[1;39;49m]\u001b[0m\u001b[39;49m To update, run: \u001b[0m\u001b[32;49mpip install --upgrade pip\u001b[0m\n"
     ]
    }
   ],
   "source": [
    "!pip install revChatGPT"
   ]
  },
  {
   "cell_type": "code",
   "execution_count": 17,
   "metadata": {},
   "outputs": [
    {
     "name": "stdout",
     "output_type": "stream",
     "text": [
      "Chatbot: \n",
      "{\"detail\":{\"message\":\"Unauthorized - Invalid access token\"}}\n"
     ]
    },
    {
     "ename": "Error",
     "evalue": "",
     "output_type": "error",
     "traceback": [
      "\u001b[0;31m---------------------------------------------------------------------------\u001b[0m",
      "\u001b[0;31mError\u001b[0m                                     Traceback (most recent call last)",
      "Cell \u001b[0;32mIn[17], line 8\u001b[0m\n\u001b[1;32m      6\u001b[0m \u001b[39mprint\u001b[39m(\u001b[39m\"\u001b[39m\u001b[39mChatbot: \u001b[39m\u001b[39m\"\u001b[39m)\n\u001b[1;32m      7\u001b[0m prev_text \u001b[39m=\u001b[39m \u001b[39m\"\u001b[39m\u001b[39m\"\u001b[39m\n\u001b[0;32m----> 8\u001b[0m \u001b[39mfor\u001b[39;00m data \u001b[39min\u001b[39;00m chatbot\u001b[39m.\u001b[39mask(\n\u001b[1;32m      9\u001b[0m     \u001b[39m\"\u001b[39m\u001b[39mHello world\u001b[39m\u001b[39m\"\u001b[39m,\n\u001b[1;32m     10\u001b[0m ):\n\u001b[1;32m     11\u001b[0m     message \u001b[39m=\u001b[39m data[\u001b[39m\"\u001b[39m\u001b[39mmessage\u001b[39m\u001b[39m\"\u001b[39m][\u001b[39mlen\u001b[39m(prev_text) :]\n\u001b[1;32m     12\u001b[0m     \u001b[39mprint\u001b[39m(message, end\u001b[39m=\u001b[39m\u001b[39m\"\u001b[39m\u001b[39m\"\u001b[39m, flush\u001b[39m=\u001b[39m\u001b[39mTrue\u001b[39;00m)\n",
      "File \u001b[0;32m~/.pyenv/versions/3.10.8/lib/python3.10/site-packages/revChatGPT/V1.py:172\u001b[0m, in \u001b[0;36mChatbot.ask\u001b[0;34m(self, prompt, conversation_id, parent_id, timeout)\u001b[0m\n\u001b[1;32m    165\u001b[0m \u001b[39mself\u001b[39m\u001b[39m.\u001b[39mparent_id_prev_queue\u001b[39m.\u001b[39mappend(data[\u001b[39m\"\u001b[39m\u001b[39mparent_message_id\u001b[39m\u001b[39m\"\u001b[39m])\n\u001b[1;32m    166\u001b[0m response \u001b[39m=\u001b[39m \u001b[39mself\u001b[39m\u001b[39m.\u001b[39msession\u001b[39m.\u001b[39mpost(\n\u001b[1;32m    167\u001b[0m     url\u001b[39m=\u001b[39mBASE_URL \u001b[39m+\u001b[39m \u001b[39m\"\u001b[39m\u001b[39mapi/conversation\u001b[39m\u001b[39m\"\u001b[39m,\n\u001b[1;32m    168\u001b[0m     data\u001b[39m=\u001b[39mjson\u001b[39m.\u001b[39mdumps(data),\n\u001b[1;32m    169\u001b[0m     timeout\u001b[39m=\u001b[39mtimeout,\n\u001b[1;32m    170\u001b[0m     stream\u001b[39m=\u001b[39m\u001b[39mTrue\u001b[39;00m,\n\u001b[1;32m    171\u001b[0m )\n\u001b[0;32m--> 172\u001b[0m \u001b[39mself\u001b[39;49m\u001b[39m.\u001b[39;49m__check_response(response)\n\u001b[1;32m    173\u001b[0m \u001b[39mfor\u001b[39;00m line \u001b[39min\u001b[39;00m response\u001b[39m.\u001b[39miter_lines():\n\u001b[1;32m    174\u001b[0m     line \u001b[39m=\u001b[39m \u001b[39mstr\u001b[39m(line)[\u001b[39m2\u001b[39m:\u001b[39m-\u001b[39m\u001b[39m1\u001b[39m]\n",
      "File \u001b[0;32m~/.pyenv/versions/3.10.8/lib/python3.10/site-packages/revChatGPT/V1.py:226\u001b[0m, in \u001b[0;36mChatbot.__check_response\u001b[0;34m(self, response)\u001b[0m\n\u001b[1;32m    224\u001b[0m error\u001b[39m.\u001b[39mcode \u001b[39m=\u001b[39m response\u001b[39m.\u001b[39mstatus_code\n\u001b[1;32m    225\u001b[0m error\u001b[39m.\u001b[39mmessage \u001b[39m=\u001b[39m response\u001b[39m.\u001b[39mtext\n\u001b[0;32m--> 226\u001b[0m \u001b[39mraise\u001b[39;00m error\n",
      "\u001b[0;31mError\u001b[0m: "
     ]
    }
   ],
   "source": [
    "from revChatGPT.V1 import Chatbot\n",
    "\n",
    "chatbot = Chatbot(config={\n",
    "  \"access_token\": CHATGPT_TOKEN\n",
    "})\n",
    "print(\"Chatbot: \")\n",
    "prev_text = \"\"\n",
    "for data in chatbot.ask(\n",
    "    \"Hello world\",\n",
    "):\n",
    "    message = data[\"message\"][len(prev_text) :]\n",
    "    print(message, end=\"\", flush=True)\n",
    "    prev_text = data[\"message\"]\n",
    "print()"
   ]
  }
 ],
 "metadata": {
  "kernelspec": {
   "display_name": "Python 3.10.8 64-bit ('3.10.8')",
   "language": "python",
   "name": "python3"
  },
  "language_info": {
   "codemirror_mode": {
    "name": "ipython",
    "version": 3
   },
   "file_extension": ".py",
   "mimetype": "text/x-python",
   "name": "python",
   "nbconvert_exporter": "python",
   "pygments_lexer": "ipython3",
   "version": "3.10.8"
  },
  "orig_nbformat": 4,
  "vscode": {
   "interpreter": {
    "hash": "5273f5dc663e89c76c1f960b3b2ed00c132e828825107c4bb426d50d856ec776"
   }
  }
 },
 "nbformat": 4,
 "nbformat_minor": 2
}
