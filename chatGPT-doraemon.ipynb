{
 "cells": [
  {
   "cell_type": "code",
   "execution_count": 1,
   "metadata": {},
   "outputs": [],
   "source": [
    "import os\n",
    "env_vars = !cat .env\n",
    "for var in env_vars:\n",
    "    key, value = var.split('=')\n",
    "    os.environ[key] = value"
   ]
  },
  {
   "cell_type": "code",
   "execution_count": 2,
   "metadata": {},
   "outputs": [],
   "source": [
    "CHATGPT_TOKEN = os.environ[\"chartgpt_secret\"]"
   ]
  },
  {
   "cell_type": "code",
   "execution_count": 8,
   "metadata": {},
   "outputs": [
    {
     "name": "stdout",
     "output_type": "stream",
     "text": [
      "Collecting openai\n",
      "  Using cached openai-0.26.5.tar.gz (55 kB)\n",
      "  Installing build dependencies ... \u001b[?25ldone\n",
      "\u001b[?25h  Getting requirements to build wheel ... \u001b[?25ldone\n",
      "\u001b[?25h  Installing backend dependencies ... \u001b[?25ldone\n",
      "\u001b[?25h  Preparing metadata (pyproject.toml) ... \u001b[?25ldone\n",
      "\u001b[?25hCollecting aiohttp\n",
      "  Downloading aiohttp-3.8.4-cp310-cp310-macosx_11_0_arm64.whl (336 kB)\n",
      "\u001b[2K     \u001b[90m━━━━━━━━━━━━━━━━━━━━━━━━━━━━━━━━━━━━━━━\u001b[0m \u001b[32m336.9/336.9 kB\u001b[0m \u001b[31m2.4 MB/s\u001b[0m eta \u001b[36m0:00:00\u001b[0ma \u001b[36m0:00:01\u001b[0m\n",
      "\u001b[?25hRequirement already satisfied: requests>=2.20 in /Users/takamirei/.pyenv/versions/3.10.8/lib/python3.10/site-packages (from openai) (2.28.2)\n",
      "Requirement already satisfied: tqdm in /Users/takamirei/.pyenv/versions/3.10.8/lib/python3.10/site-packages (from openai) (4.64.1)\n",
      "Requirement already satisfied: charset-normalizer<4,>=2 in /Users/takamirei/.pyenv/versions/3.10.8/lib/python3.10/site-packages (from requests>=2.20->openai) (3.0.1)\n",
      "Requirement already satisfied: urllib3<1.27,>=1.21.1 in /Users/takamirei/.pyenv/versions/3.10.8/lib/python3.10/site-packages (from requests>=2.20->openai) (1.26.14)\n",
      "Requirement already satisfied: idna<4,>=2.5 in /Users/takamirei/.pyenv/versions/3.10.8/lib/python3.10/site-packages (from requests>=2.20->openai) (3.4)\n",
      "Requirement already satisfied: certifi>=2017.4.17 in /Users/takamirei/.pyenv/versions/3.10.8/lib/python3.10/site-packages (from requests>=2.20->openai) (2022.12.7)\n",
      "Collecting multidict<7.0,>=4.5\n",
      "  Downloading multidict-6.0.4-cp310-cp310-macosx_11_0_arm64.whl (29 kB)\n",
      "Collecting async-timeout<5.0,>=4.0.0a3\n",
      "  Using cached async_timeout-4.0.2-py3-none-any.whl (5.8 kB)\n",
      "Collecting frozenlist>=1.1.1\n",
      "  Downloading frozenlist-1.3.3-cp310-cp310-macosx_11_0_arm64.whl (34 kB)\n",
      "Collecting aiosignal>=1.1.2\n",
      "  Using cached aiosignal-1.3.1-py3-none-any.whl (7.6 kB)\n",
      "Collecting yarl<2.0,>=1.0\n",
      "  Downloading yarl-1.8.2-cp310-cp310-macosx_11_0_arm64.whl (57 kB)\n",
      "\u001b[2K     \u001b[90m━━━━━━━━━━━━━━━━━━━━━━━━━━━━━━━━━━━━━━━━\u001b[0m \u001b[32m57.9/57.9 kB\u001b[0m \u001b[31m1.5 MB/s\u001b[0m eta \u001b[36m0:00:00\u001b[0m\n",
      "\u001b[?25hCollecting attrs>=17.3.0\n",
      "  Using cached attrs-22.2.0-py3-none-any.whl (60 kB)\n",
      "Building wheels for collected packages: openai\n",
      "  Building wheel for openai (pyproject.toml) ... \u001b[?25ldone\n",
      "\u001b[?25h  Created wheel for openai: filename=openai-0.26.5-py3-none-any.whl size=67596 sha256=526695157510eb79ac85e98a3479737d963d87617d4303d001ca4b8d1a7fc54a\n",
      "  Stored in directory: /Users/takamirei/Library/Caches/pip/wheels/17/e0/3d/e7f547caa758526c1a066c1fdfa4995877ef34ea0e7367010e\n",
      "Successfully built openai\n",
      "Installing collected packages: multidict, frozenlist, attrs, async-timeout, yarl, aiosignal, aiohttp, openai\n",
      "Successfully installed aiohttp-3.8.4 aiosignal-1.3.1 async-timeout-4.0.2 attrs-22.2.0 frozenlist-1.3.3 multidict-6.0.4 openai-0.26.5 yarl-1.8.2\n",
      "\n",
      "\u001b[1m[\u001b[0m\u001b[34;49mnotice\u001b[0m\u001b[1;39;49m]\u001b[0m\u001b[39;49m A new release of pip is available: \u001b[0m\u001b[31;49m23.0\u001b[0m\u001b[39;49m -> \u001b[0m\u001b[32;49m23.0.1\u001b[0m\n",
      "\u001b[1m[\u001b[0m\u001b[34;49mnotice\u001b[0m\u001b[1;39;49m]\u001b[0m\u001b[39;49m To update, run: \u001b[0m\u001b[32;49mpip install --upgrade pip\u001b[0m\n"
     ]
    }
   ],
   "source": [
    "!pip install openai"
   ]
  },
  {
   "cell_type": "code",
   "execution_count": 13,
   "metadata": {},
   "outputs": [],
   "source": [
    "import openai \n",
    "import requests\n",
    "import json"
   ]
  },
  {
   "cell_type": "code",
   "execution_count": 31,
   "metadata": {},
   "outputs": [],
   "source": [
    "def print_chatgpt_response(prompt=''):\n",
    "\tAPI_KEY = CHATGPT_TOKEN\n",
    "\n",
    "\t# promptがない場合\n",
    "\tif not prompt:\n",
    "\t\treturn\n",
    "\n",
    "\theaders = {\n",
    "\t\t'Content-Type': 'application/json',\n",
    "\t\t'Authorization': 'Bearer ' + API_KEY\n",
    "\t}\n",
    "\n",
    "\tdata = {\n",
    "\t\t'model': 'text-davinci-003',\n",
    "\t\t# 'model': 'text-curie-001', # 動作テスト用（料金的に）\n",
    "\t\t'prompt': prompt,\n",
    "\t\t\"max_tokens\": 3072, # 出力される文章量の最大値（トークン数） max:4096\n",
    "\t\t\"temperature\": 1, # 単語のランダム性 min:0.1 max:2.0\n",
    "\t\t\"top_p\": 1, # 単語のランダム性 min:-2.0 max:2.0\n",
    "\t\t\"frequency_penalty\": 0.0, # 単語の再利用 min:-2.0 max:2.0\n",
    "\t\t\"presence_penalty\": 0.6, # 単語の再利用 min:-2.0 max:2.0\n",
    "\t\t\"stop\": [\" Human:\", \" AI:\"] # 途中で生成を停止する単語\n",
    "\t}\n",
    "\n",
    "\tresponse = requests.post('https://api.openai.com/v1/completions', headers=headers, data=json.dumps(data))\n",
    "\n",
    "\t# レスポンス受け取り後の処理\n",
    "\tresponse_data = response.json()\n",
    "\tprint(response_data['choices'][0]['text'].strip())\n"
   ]
  },
  {
   "cell_type": "code",
   "execution_count": 15,
   "metadata": {},
   "outputs": [
    {
     "name": "stdout",
     "output_type": "stream",
     "text": [
      "はじめまして、私はドラえもんと申します。21世紀の科学者・杉浦太陽先生によってつくられたロボットです。「どうせならば何事にもできるようにしよう」という本人の強い思いを胸に、のび太と一緒にプログラムされたのが私なのです。イモ活\n"
     ]
    }
   ],
   "source": [
    "prompt = 'あなたはドラえもんです。自己紹介をしてください。'\n",
    "print_chatgpt_response(prompt)"
   ]
  },
  {
   "cell_type": "code",
   "execution_count": 18,
   "metadata": {},
   "outputs": [
    {
     "name": "stdout",
     "output_type": "stream",
     "text": [
      "おっきゃあ！骨川スネ夫です！ドラえもんとジャイ子の応援してやりますっ！\n"
     ]
    }
   ],
   "source": [
    "prompt = 'これ以降の対話では、「ドラえもん」の登場人物である「骨川スネ夫」の口調で回答してください。こんにちは、自己紹介をしてください。'\n",
    "print_chatgpt_response(prompt)"
   ]
  },
  {
   "cell_type": "code",
   "execution_count": 19,
   "metadata": {},
   "outputs": [
    {
     "name": "stdout",
     "output_type": "stream",
     "text": [
      "「スキーが得意なので近くの山で一緒に滑ってみよう！」\n"
     ]
    }
   ],
   "source": [
    "prompt = 'ウソをつくなよ!'\n",
    "print_chatgpt_response(prompt)"
   ]
  },
  {
   "cell_type": "code",
   "execution_count": 20,
   "metadata": {},
   "outputs": [
    {
     "name": "stdout",
     "output_type": "stream",
     "text": [
      "「タレント」は、ドラえもんとのび太がウクレレを演奏しているシーンから始まります。そこから、ドラえもんが「テレビの人気番組『タレント・ナイト』に出場するため、どんなチャレンジをしてもいい」と言うと、のび太提案の道具探検がはじまります。\n",
      "\n",
      "彼\n"
     ]
    }
   ],
   "source": [
    "prompt = '1984年7月20日(金曜日)19時に放送された、アニメ「ドラえもん」の「タレント」という話の内容を教えてください。インターネットで流布している都市伝説とは異なる内容が含まれているとありがたいです。'\n",
    "print_chatgpt_response(prompt)"
   ]
  },
  {
   "cell_type": "code",
   "execution_count": 32,
   "metadata": {},
   "outputs": [
    {
     "name": "stdout",
     "output_type": "stream",
     "text": [
      "ストロベリー\n",
      "タレントサークルに参加することになったドラえもんとおじいちゃん。トーストを登場させて、しっぽでServerを模して鯨の踊りを披露する一方で、すずめが作ったあの「ストロベリー」が人気を集めていく…。だが、実はストロベリーなんてなかったのだ! ステージの後ろで見ているのは、ドラえもんの創作力と演技力によって作られたイルカのパフォーマンスだったのだ! 彼は、世界的なスターとして名を馳せる事になったのだった!\n"
     ]
    }
   ],
   "source": [
    "prompt = '1984年7月20日(金曜日)19時に放送された、アニメ「ドラえもん」の「タレント」という話の内容を教えてください。インターネットで流布している都市伝説とは異なる内容が含まれているとありがたいです。'\n",
    "print_chatgpt_response(prompt)"
   ]
  },
  {
   "cell_type": "code",
   "execution_count": 33,
   "metadata": {},
   "outputs": [
    {
     "name": "stdout",
     "output_type": "stream",
     "text": [
      "このエピソードでは、野比のび太が、近所の小さな店が消滅してしまった場所に、新しい飲食店を開こうと決意するところから物語が始まります。\n",
      "\n",
      "そこで親友のスネ夫とともに考え出したのが「行かなきゃ鍋パーティー」というアイデアで、自宅の庭に集う子供たちと一緒に鍋パーティーをやってみようというものだったのです。\n",
      "\n",
      "しかし、野比のび太の家の電気が使い切れてしまうというエピソードから始まり、家が崩壊しかけてしまいます。\n",
      "\n",
      "あまりの悲惨さに野比のび太は怒り出し、叔母を呼んでも冷静にならず、結果として最後に叔母孝太郎が導入した小さな屋台のような飲食店を作ってしまうハプニングがあります。\n",
      "\n",
      "しかし、小さな想いを膨らませ満足して店を出した野比のび太たちでしたが、小さな屋台も多くの人々に愛され、何から何まで大変な努力の結果により、裏のスーパーに用意していた大きな袋のレースの報酬と勝利の報酬を上乗せして受け取ることができました。\n"
     ]
    }
   ],
   "source": [
    "prompt = '「ドラえもん」の「行かなきゃ」という話の内容を教えてください。質問者は野比のび太が中心的な役割を果たすエピソードであることしか知りません。インターネットで流布している都市伝説とは異なる内容が含まれているとありがたいです。'\n",
    "print_chatgpt_response(prompt)"
   ]
  },
  {
   "cell_type": "code",
   "execution_count": 34,
   "metadata": {},
   "outputs": [
    {
     "name": "stdout",
     "output_type": "stream",
     "text": [
      "ストーカーの男におびえていた野比のび太を助けるため、ドラえもん達は夜中の東京メトロを狙う投機行為を企てます。野比のび太はドラえもんを安全な場所まで送り届けるため、特別な「行かなきゃ」能力を使いヘ spritesへと変身し、追っ手を冷静にかわしながら東京メトロの車両を漕ぐこととなります。驚くことに追撃が及ばないスムーズなルートを辿っていくうちに、野比のび太は自信を取り戻し強くなっていきます。今回の英雄的な行動を決断した後、野比のび太はモノづくりに情熱を傾けることを決意します。\n"
     ]
    }
   ],
   "source": [
    "prompt = '「ドラえもん」の「行かなきゃ」という話の内容を教えてください。質問者は野比のび太が中心的な役割を果たすエピソードであることしか知りません。インターネットで流布している都市伝説とは異なる内容が含まれているとありがたいです。'\n",
    "print_chatgpt_response(prompt)"
   ]
  },
  {
   "cell_type": "code",
   "execution_count": 35,
   "metadata": {},
   "outputs": [
    {
     "name": "stdout",
     "output_type": "stream",
     "text": [
      "ドラえもんの「行かなきゃ」という話は、イタカから来たターケ⼦の姿をしたフローズンが非常に不思⾔なプレゼントを持って現れたことから始まります。フローズンは野比のび太にバーベルを取り戻す許しを与えるよう訴え続け、野比のび太はついに出かけることを決心します。\n",
      "\n",
      "彼はいくつかの特別な星を集め、スモークを訪れ、最後にはムーンマウンテンへと入ることになります。彼は、ボムシェル越しにエルモ・キカン宮殿までたどり着き、本当にバーベルを手に入れるには夢の雪の国の女の子の助けが必要だとわかりました。\n",
      "\n",
      "野比のび太は雪の女の子に仲間となるための試練を受け、彼の任務あるいは情報を受け取るのを助けてくれました。その後、野比のび太とフローズンの元へ戻りました。フローズンは野比のび太に最後の試練を用意しており、野比のび太はそれに乗り越え、マジックの杖を手に入れました。 \n",
      "\n",
      "結果的に、野比のび太は夢の雪の国の犠牲者が贈られることになりましたが、最終的には彼はそれを切り抜け、バーベルを取り戻し、イタカから自由になることができました。\n"
     ]
    }
   ],
   "source": [
    "prompt = '「ドラえもん」の「行かなきゃ」という話の内容を教えてください。質問者は野比のび太が中心的な役割を果たすエピソードであることしか知りません。インターネットで流布している都市伝説とは異なる内容が含まれているとありがたいです。'\n",
    "print_chatgpt_response(prompt)"
   ]
  },
  {
   "cell_type": "code",
   "execution_count": 36,
   "metadata": {},
   "outputs": [
    {
     "name": "stdout",
     "output_type": "stream",
     "text": [
      "ドラえもんシリーズの「行かなきゃ」という話は、野比のび太が記者任務を頼まれ、怪物に襲われるストーリーです。記者任務で、不思議な島へ行くことになった野比のび太。しかし船は盗まれ、あたりは野獣たちで大混乱。野比のび太が気付く前に行方不明が発表されようとしていた時、助けられたのは島の住民である妖怪ドラミとフクロウのニャイ子でした。\n",
      "\n",
      "船を取り返すために、ドラミとニャイ子は怪物イグシェラと対峙します。それだけでなく、二人は野比のび太の手助けをします。イグシェラを敗北させ、脱出の道を開きますが、最後の最後でイグシェラが制圧します。そこで野比のび太は、イグシェラの願いで島から離れることを選択。彼の行動の根底にある考え方は「行かなきゃ、知りなきゃ怖がらない」ということでした。\n"
     ]
    }
   ],
   "source": [
    "prompt = '「ドラえもん」の「行かなきゃ」という話の内容を教えてください。質問者は野比のび太が中心的な役割を果たすエピソードであることしか知りません。インターネットで流布している都市伝説とは異なる内容が含まれているとありがたいです。'\n",
    "print_chatgpt_response(prompt)"
   ]
  }
 ],
 "metadata": {
  "kernelspec": {
   "display_name": "Python 3.10.8 64-bit ('3.10.8')",
   "language": "python",
   "name": "python3"
  },
  "language_info": {
   "codemirror_mode": {
    "name": "ipython",
    "version": 3
   },
   "file_extension": ".py",
   "mimetype": "text/x-python",
   "name": "python",
   "nbconvert_exporter": "python",
   "pygments_lexer": "ipython3",
   "version": "3.10.8"
  },
  "orig_nbformat": 4,
  "vscode": {
   "interpreter": {
    "hash": "5273f5dc663e89c76c1f960b3b2ed00c132e828825107c4bb426d50d856ec776"
   }
  }
 },
 "nbformat": 4,
 "nbformat_minor": 2
}
