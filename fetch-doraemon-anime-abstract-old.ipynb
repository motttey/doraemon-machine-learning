{
 "cells": [
  {
   "cell_type": "code",
   "execution_count": 4,
   "id": "10775833",
   "metadata": {},
   "outputs": [],
   "source": [
    "import requests\n",
    "import time\n",
    "from bs4 import BeautifulSoup\n",
    "import re"
   ]
  },
  {
   "cell_type": "code",
   "execution_count": 5,
   "id": "1f1314e9",
   "metadata": {},
   "outputs": [],
   "source": [
    "def fetch_abstract(index, max_length):\n",
    "    url = 'https://www.tv-asahi.co.jp/doraemon/contents/story2005/{0}/'.format(index)\n",
    "    html_text = requests.get(url).text\n",
    "    soup = BeautifulSoup(html_text, 'html.parser')\n",
    "\n",
    "    # 整構造でない場合はテキスト全部取得する\n",
    "    p_list = soup.find_all('td', class_=\"text\") \n",
    "    abstracts_list = [\n",
    "        asbstract_dom.text\n",
    "        for asbstract_dom in p_list\n",
    "    ]\n",
    "    \n",
    "    title = soup.find('span', class_='data').text\n",
    "    broadcasting_date = title.split('（')[0]\n",
    "    print(broadcasting_date)\n",
    "    return {\n",
    "        \"index\": index,\n",
    "        \"title\": title,\n",
    "        \"broadcasting_date\": broadcasting_date,\n",
    "        # 50文字ある文章のみ抽出\n",
    "        \"abstracts_list\": [asbstract for asbstract in abstracts_list if len(asbstract) > max_length]\n",
    "    }\n"
   ]
  },
  {
   "cell_type": "code",
   "execution_count": 6,
   "id": "669ca84f",
   "metadata": {},
   "outputs": [
    {
     "name": "stdout",
     "output_type": "stream",
     "text": [
      "21\n"
     ]
    },
    {
     "ename": "AttributeError",
     "evalue": "'NoneType' object has no attribute 'text'",
     "output_type": "error",
     "traceback": [
      "\u001b[0;31m---------------------------------------------------------------------------\u001b[0m",
      "\u001b[0;31mAttributeError\u001b[0m                            Traceback (most recent call last)",
      "\u001b[1;32mセル3 を /Users/takamirei/Documents/doraemon-machine-learning/fetch-doraemon-anime-abstract-old.ipynb\u001b[0m in \u001b[0;36m<cell line: 6>\u001b[0;34m()\u001b[0m\n\u001b[1;32m      <a href='vscode-notebook-cell:/Users/takamirei/Documents/doraemon-machine-learning/fetch-doraemon-anime-abstract-old.ipynb#W6sZmlsZQ%3D%3D?line=6'>7</a>\u001b[0m s_zero \u001b[39m=\u001b[39m \u001b[39mstr\u001b[39m(i)\u001b[39m.\u001b[39mzfill(\u001b[39m4\u001b[39m)\n\u001b[1;32m      <a href='vscode-notebook-cell:/Users/takamirei/Documents/doraemon-machine-learning/fetch-doraemon-anime-abstract-old.ipynb#W6sZmlsZQ%3D%3D?line=7'>8</a>\u001b[0m \u001b[39mprint\u001b[39m(i)\n\u001b[1;32m      <a href='vscode-notebook-cell:/Users/takamirei/Documents/doraemon-machine-learning/fetch-doraemon-anime-abstract-old.ipynb#W6sZmlsZQ%3D%3D?line=8'>9</a>\u001b[0m stories_list\u001b[39m.\u001b[39mappend(\n\u001b[0;32m---> <a href='vscode-notebook-cell:/Users/takamirei/Documents/doraemon-machine-learning/fetch-doraemon-anime-abstract-old.ipynb#W6sZmlsZQ%3D%3D?line=9'>10</a>\u001b[0m     fetch_abstract(s_zero, max_length)\n\u001b[1;32m     <a href='vscode-notebook-cell:/Users/takamirei/Documents/doraemon-machine-learning/fetch-doraemon-anime-abstract-old.ipynb#W6sZmlsZQ%3D%3D?line=10'>11</a>\u001b[0m )\n\u001b[1;32m     <a href='vscode-notebook-cell:/Users/takamirei/Documents/doraemon-machine-learning/fetch-doraemon-anime-abstract-old.ipynb#W6sZmlsZQ%3D%3D?line=11'>12</a>\u001b[0m time\u001b[39m.\u001b[39msleep(\u001b[39m5\u001b[39m)\n",
      "\u001b[1;32mセル3 を /Users/takamirei/Documents/doraemon-machine-learning/fetch-doraemon-anime-abstract-old.ipynb\u001b[0m in \u001b[0;36mfetch_abstract\u001b[0;34m(index, max_length)\u001b[0m\n\u001b[1;32m      <a href='vscode-notebook-cell:/Users/takamirei/Documents/doraemon-machine-learning/fetch-doraemon-anime-abstract-old.ipynb#W6sZmlsZQ%3D%3D?line=6'>7</a>\u001b[0m p_list \u001b[39m=\u001b[39m soup\u001b[39m.\u001b[39mfind_all(\u001b[39m'\u001b[39m\u001b[39mtd\u001b[39m\u001b[39m'\u001b[39m, class_\u001b[39m=\u001b[39m\u001b[39m\"\u001b[39m\u001b[39mtext\u001b[39m\u001b[39m\"\u001b[39m) \n\u001b[1;32m      <a href='vscode-notebook-cell:/Users/takamirei/Documents/doraemon-machine-learning/fetch-doraemon-anime-abstract-old.ipynb#W6sZmlsZQ%3D%3D?line=7'>8</a>\u001b[0m abstracts_list \u001b[39m=\u001b[39m [\n\u001b[1;32m      <a href='vscode-notebook-cell:/Users/takamirei/Documents/doraemon-machine-learning/fetch-doraemon-anime-abstract-old.ipynb#W6sZmlsZQ%3D%3D?line=8'>9</a>\u001b[0m     asbstract_dom\u001b[39m.\u001b[39mtext\n\u001b[1;32m     <a href='vscode-notebook-cell:/Users/takamirei/Documents/doraemon-machine-learning/fetch-doraemon-anime-abstract-old.ipynb#W6sZmlsZQ%3D%3D?line=9'>10</a>\u001b[0m     \u001b[39mfor\u001b[39;00m asbstract_dom \u001b[39min\u001b[39;00m p_list\n\u001b[1;32m     <a href='vscode-notebook-cell:/Users/takamirei/Documents/doraemon-machine-learning/fetch-doraemon-anime-abstract-old.ipynb#W6sZmlsZQ%3D%3D?line=10'>11</a>\u001b[0m ]\n\u001b[0;32m---> <a href='vscode-notebook-cell:/Users/takamirei/Documents/doraemon-machine-learning/fetch-doraemon-anime-abstract-old.ipynb#W6sZmlsZQ%3D%3D?line=12'>13</a>\u001b[0m title \u001b[39m=\u001b[39m soup\u001b[39m.\u001b[39;49mfind(\u001b[39m'\u001b[39;49m\u001b[39mspan\u001b[39;49m\u001b[39m'\u001b[39;49m, _class\u001b[39m=\u001b[39;49m\u001b[39m'\u001b[39;49m\u001b[39mdata\u001b[39;49m\u001b[39m'\u001b[39;49m)\u001b[39m.\u001b[39;49mtext\n\u001b[1;32m     <a href='vscode-notebook-cell:/Users/takamirei/Documents/doraemon-machine-learning/fetch-doraemon-anime-abstract-old.ipynb#W6sZmlsZQ%3D%3D?line=13'>14</a>\u001b[0m broadcasting_date \u001b[39m=\u001b[39m title\u001b[39m.\u001b[39msplit(\u001b[39m'\u001b[39m\u001b[39m（\u001b[39m\u001b[39m'\u001b[39m)[\u001b[39m0\u001b[39m]\n\u001b[1;32m     <a href='vscode-notebook-cell:/Users/takamirei/Documents/doraemon-machine-learning/fetch-doraemon-anime-abstract-old.ipynb#W6sZmlsZQ%3D%3D?line=14'>15</a>\u001b[0m \u001b[39mprint\u001b[39m(broadcasting_date)\n",
      "\u001b[0;31mAttributeError\u001b[0m: 'NoneType' object has no attribute 'text'"
     ]
    }
   ],
   "source": [
    "start = 21\n",
    "end = 24\n",
    "max_length = 50\n",
    "\n",
    "stories_list = []\n",
    "for i in range(start, end+1):\n",
    "    s_zero = str(i).zfill(4)\n",
    "    print(i)\n",
    "    stories_list.append(\n",
    "        fetch_abstract(s_zero, max_length)\n",
    "    )\n",
    "    time.sleep(5)"
   ]
  },
  {
   "cell_type": "code",
   "execution_count": null,
   "id": "a1ef78e9",
   "metadata": {},
   "outputs": [],
   "source": [
    "import json\n",
    "with open(\"output_storiesv_old.json\", 'w') as f:\n",
    "    json.dump(stories_list, f)"
   ]
  }
 ],
 "metadata": {
  "kernelspec": {
   "display_name": "Python 3.9.5 64-bit ('3.9.5')",
   "language": "python",
   "name": "python3"
  },
  "language_info": {
   "codemirror_mode": {
    "name": "ipython",
    "version": 3
   },
   "file_extension": ".py",
   "mimetype": "text/x-python",
   "name": "python",
   "nbconvert_exporter": "python",
   "pygments_lexer": "ipython3",
   "version": "3.9.5"
  },
  "vscode": {
   "interpreter": {
    "hash": "18a25265ee43aa7e16b48646ef60b281b8e56b39f58e260209b2fb52b666fc14"
   }
  }
 },
 "nbformat": 4,
 "nbformat_minor": 5
}
