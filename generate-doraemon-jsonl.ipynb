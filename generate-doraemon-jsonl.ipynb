{
 "cells": [
  {
   "cell_type": "code",
   "execution_count": 2,
   "metadata": {},
   "outputs": [],
   "source": [
    "import json\n",
    "import pandas as pd"
   ]
  },
  {
   "cell_type": "code",
   "execution_count": 3,
   "metadata": {},
   "outputs": [
    {
     "name": "stdout",
     "output_type": "stream",
     "text": [
      "407\n",
      "dict_keys(['index', 'title', 'broadcasting_date', 'abstracts_list'])\n"
     ]
    }
   ],
   "source": [
    "stories_json = []\n",
    "with open('./output_storiesv2.json', 'r') as f:\n",
    "    stories_json = stories_json + json.loads(f.read())\n",
    "\n",
    "print(len(stories_json))\n",
    "print(stories_json[1].keys())"
   ]
  },
  {
   "cell_type": "code",
   "execution_count": 4,
   "metadata": {},
   "outputs": [
    {
     "data": {
      "text/html": [
       "<div>\n",
       "<style scoped>\n",
       "    .dataframe tbody tr th:only-of-type {\n",
       "        vertical-align: middle;\n",
       "    }\n",
       "\n",
       "    .dataframe tbody tr th {\n",
       "        vertical-align: top;\n",
       "    }\n",
       "\n",
       "    .dataframe thead th {\n",
       "        text-align: right;\n",
       "    }\n",
       "</style>\n",
       "<table border=\"1\" class=\"dataframe\">\n",
       "  <thead>\n",
       "    <tr style=\"text-align: right;\">\n",
       "      <th></th>\n",
       "      <th>index</th>\n",
       "      <th>title</th>\n",
       "      <th>broadcasting_date</th>\n",
       "      <th>abstract</th>\n",
       "    </tr>\n",
       "  </thead>\n",
       "  <tbody>\n",
       "    <tr>\n",
       "      <th>0</th>\n",
       "      <td>0325</td>\n",
       "      <td>春だ！映画だ！３時間アニメ祭り\\r\\n「映画ドラえもん のび太の新魔界大冒険～７人の魔法使い...</td>\n",
       "      <td>2013年3月15日</td>\n",
       "      <td>何をやってもうまくいかないのび太は、「魔法（まほう）が使えたら便利で楽しくなるにちがいない...</td>\n",
       "    </tr>\n",
       "    <tr>\n",
       "      <th>0</th>\n",
       "      <td>0325</td>\n",
       "      <td>春だ！映画だ！３時間アニメ祭り\\r\\n「映画ドラえもん のび太の新魔界大冒険～７人の魔法使い...</td>\n",
       "      <td>2013年3月15日</td>\n",
       "      <td>★最新作『映画ドラえもん のび太のひみつ道具博物館（ミュージアム）』の寺本幸代監督が、初めて...</td>\n",
       "    </tr>\n",
       "    <tr>\n",
       "      <th>1</th>\n",
       "      <td>0326</td>\n",
       "      <td>「ばくはつコショウ」「何が何でもお花見を」[2013年4月12日放送]</td>\n",
       "      <td>2013年4月12日</td>\n",
       "      <td>ある朝、ねぼうしたのび太に泣きつかれたドラえもんは、『ばくはつコショウ』を取り出す。このコ...</td>\n",
       "    </tr>\n",
       "    <tr>\n",
       "      <th>1</th>\n",
       "      <td>0326</td>\n",
       "      <td>「ばくはつコショウ」「何が何でもお花見を」[2013年4月12日放送]</td>\n",
       "      <td>2013年4月12日</td>\n",
       "      <td>みんなから家族でお花見に行った話を聞き、うらやましくてしかたのないのび太。さっそくママにた...</td>\n",
       "    </tr>\n",
       "    <tr>\n",
       "      <th>2</th>\n",
       "      <td>0327</td>\n",
       "      <td>「やりクリしてハワイ旅行」「しずかちゃんのはごろも」[2013年4月26日放送]</td>\n",
       "      <td>2013年4月26日</td>\n",
       "      <td>スネ夫からハワイ旅行をじまんされたのび太は、自分もハワイに行きたいとママにたのもうとするが...</td>\n",
       "    </tr>\n",
       "  </tbody>\n",
       "</table>\n",
       "</div>"
      ],
      "text/plain": [
       "  index                                              title broadcasting_date  \\\n",
       "0  0325  春だ！映画だ！３時間アニメ祭り\\r\\n「映画ドラえもん のび太の新魔界大冒険～７人の魔法使い...        2013年3月15日   \n",
       "0  0325  春だ！映画だ！３時間アニメ祭り\\r\\n「映画ドラえもん のび太の新魔界大冒険～７人の魔法使い...        2013年3月15日   \n",
       "1  0326                「ばくはつコショウ」「何が何でもお花見を」[2013年4月12日放送]        2013年4月12日   \n",
       "1  0326                「ばくはつコショウ」「何が何でもお花見を」[2013年4月12日放送]        2013年4月12日   \n",
       "2  0327           「やりクリしてハワイ旅行」「しずかちゃんのはごろも」[2013年4月26日放送]        2013年4月26日   \n",
       "\n",
       "                                            abstract  \n",
       "0  　何をやってもうまくいかないのび太は、「魔法（まほう）が使えたら便利で楽しくなるにちがいない...  \n",
       "0  ★最新作『映画ドラえもん のび太のひみつ道具博物館（ミュージアム）』の寺本幸代監督が、初めて...  \n",
       "1  　ある朝、ねぼうしたのび太に泣きつかれたドラえもんは、『ばくはつコショウ』を取り出す。このコ...  \n",
       "1  　みんなから家族でお花見に行った話を聞き、うらやましくてしかたのないのび太。さっそくママにた...  \n",
       "2  　スネ夫からハワイ旅行をじまんされたのび太は、自分もハワイに行きたいとママにたのもうとするが...  "
      ]
     },
     "execution_count": 4,
     "metadata": {},
     "output_type": "execute_result"
    }
   ],
   "source": [
    "stories_df = pd.DataFrame(stories_json)\n",
    "stories_df = stories_df.explode('abstracts_list')\n",
    "stories_df.rename(columns={'abstracts_list': 'abstract'}, inplace=True)\n",
    "\n",
    "stories_df.head()"
   ]
  },
  {
   "cell_type": "code",
   "execution_count": 6,
   "metadata": {},
   "outputs": [
    {
     "name": "stdout",
     "output_type": "stream",
     "text": [
      "{'prompt': '春だ！映画だ！３時間アニメ祭り\\r\\n「映画ドラえもん のび太の新魔界大冒険～７人の魔法使い～」[2013年3月15日放送]', 'completion': '\\u3000何をやってもうまくいかないのび太は、「魔法（まほう）が使えたら便利で楽しくなるにちがいない」と思いつき、『もしもボックス』で現実の世界を魔法の世界に変えてしまう。\\r\\n\\u3000そこは、科学のかわりに魔法が発達した世界。ところが、ここでもやっぱり不器用なのび太は、魔法がうまく使えないのだった…。\\r\\n\\u3000そんなある日、のび太は、魔法を自由にあやつる美少女・美夜子と、その父・満月牧師に出会う。牧師から、悪魔族（あくまぞく）が住む“魔界星（まかいせい）”が地球に接近し、地球侵略（しんりゃく）を企てていると聞いたのび太とドラえもんは、大あわてで元の世界に戻そうとするが、なんとママがもしもボックスをすててしまう…！\\r\\n\\u3000やがて魔界星はどんどん地球に接近し、地震や異常気象が次々と起きはじめる。のび太とドラえもんは地球を救うため、しずか、ジャイアン、スネ夫、そして美夜子とともに魔界星へと乗り込んでいくが…！？'}\n"
     ]
    }
   ],
   "source": [
    "output_array = []\n",
    "for index, row in stories_df.iterrows():\n",
    "    output_array.append({\n",
    "        \"prompt\": row[\"title\"],\n",
    "        \"completion\": row[\"abstract\"]\n",
    "    })\n",
    "\n",
    "print(output_array[0])"
   ]
  },
  {
   "cell_type": "code",
   "execution_count": 9,
   "metadata": {},
   "outputs": [],
   "source": [
    "with open(\"doraemon-stories.jsonl\", 'w') as f:\n",
    "    for item in output_array:\n",
    "        f.write(json.dumps(item, ensure_ascii=False) + \"\\n\")"
   ]
  }
 ],
 "metadata": {
  "kernelspec": {
   "display_name": "Python 3",
   "language": "python",
   "name": "python3"
  },
  "language_info": {
   "codemirror_mode": {
    "name": "ipython",
    "version": 3
   },
   "file_extension": ".py",
   "mimetype": "text/x-python",
   "name": "python",
   "nbconvert_exporter": "python",
   "pygments_lexer": "ipython3",
   "version": "3.10.8"
  },
  "orig_nbformat": 4
 },
 "nbformat": 4,
 "nbformat_minor": 2
}
