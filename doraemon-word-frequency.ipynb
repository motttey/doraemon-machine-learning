{
 "cells": [
  {
   "cell_type": "code",
   "execution_count": 1,
   "metadata": {},
   "outputs": [],
   "source": [
    "import json\n",
    "import pandas as pd\n",
    "import MeCab"
   ]
  },
  {
   "cell_type": "code",
   "execution_count": 2,
   "metadata": {},
   "outputs": [
    {
     "name": "stdout",
     "output_type": "stream",
     "text": [
      "839\n",
      "dict_keys(['index', 'stories_index', 'title', 'broadcasting_date', 'abstracts_list'])\n"
     ]
    }
   ],
   "source": [
    "stories_json = []\n",
    "with open('./output_stories_0123.json', 'r') as f:\n",
    "    stories_json = stories_json + json.loads(f.read())\n",
    "\n",
    "print(len(stories_json))\n",
    "print(stories_json[1].keys())"
   ]
  },
  {
   "cell_type": "code",
   "execution_count": 3,
   "metadata": {},
   "outputs": [
    {
     "data": {
      "text/html": [
       "<div>\n",
       "<style scoped>\n",
       "    .dataframe tbody tr th:only-of-type {\n",
       "        vertical-align: middle;\n",
       "    }\n",
       "\n",
       "    .dataframe tbody tr th {\n",
       "        vertical-align: top;\n",
       "    }\n",
       "\n",
       "    .dataframe thead th {\n",
       "        text-align: right;\n",
       "    }\n",
       "</style>\n",
       "<table border=\"1\" class=\"dataframe\">\n",
       "  <thead>\n",
       "    <tr style=\"text-align: right;\">\n",
       "      <th></th>\n",
       "      <th>index</th>\n",
       "      <th>stories_index</th>\n",
       "      <th>title</th>\n",
       "      <th>broadcasting_date</th>\n",
       "      <th>abstracts_list</th>\n",
       "      <th>abstract_joined</th>\n",
       "    </tr>\n",
       "  </thead>\n",
       "  <tbody>\n",
       "    <tr>\n",
       "      <th>0</th>\n",
       "      <td>0325</td>\n",
       "      <td>0</td>\n",
       "      <td>「映画ドラえもん のび太の新魔界大冒険～７人の魔法使い～」</td>\n",
       "      <td>2013年3月15日</td>\n",
       "      <td>[　何をやってもうまくいかないのび太は、「魔法（まほう）が使えたら便利で楽しくなるにちがいな...</td>\n",
       "      <td>何をやってもうまくいかないのび太は、「魔法（まほう）が使えたら便利で楽しくなるにちがいない...</td>\n",
       "    </tr>\n",
       "    <tr>\n",
       "      <th>1</th>\n",
       "      <td>0326</td>\n",
       "      <td>0</td>\n",
       "      <td>「ばくはつコショウ」</td>\n",
       "      <td>2013年4月12日</td>\n",
       "      <td>[　ある朝、ねぼうしたのび太に泣きつかれたドラえもんは、『ばくはつコショウ』を取り出す。この...</td>\n",
       "      <td>ある朝、ねぼうしたのび太に泣きつかれたドラえもんは、『ばくはつコショウ』を取り出す。このコ...</td>\n",
       "    </tr>\n",
       "    <tr>\n",
       "      <th>2</th>\n",
       "      <td>0326</td>\n",
       "      <td>1</td>\n",
       "      <td>「何が何でもお花見を」</td>\n",
       "      <td>2013年4月12日</td>\n",
       "      <td>[　みんなから家族でお花見に行った話を聞き、うらやましくてしかたのないのび太。さっそくママに...</td>\n",
       "      <td>みんなから家族でお花見に行った話を聞き、うらやましくてしかたのないのび太。さっそくママにた...</td>\n",
       "    </tr>\n",
       "    <tr>\n",
       "      <th>3</th>\n",
       "      <td>0327</td>\n",
       "      <td>0</td>\n",
       "      <td>「やりクリしてハワイ旅行」</td>\n",
       "      <td>2013年4月26日</td>\n",
       "      <td>[　スネ夫からハワイ旅行をじまんされたのび太は、自分もハワイに行きたいとママにたのもうとする...</td>\n",
       "      <td>スネ夫からハワイ旅行をじまんされたのび太は、自分もハワイに行きたいとママにたのもうとするが...</td>\n",
       "    </tr>\n",
       "    <tr>\n",
       "      <th>4</th>\n",
       "      <td>0327</td>\n",
       "      <td>1</td>\n",
       "      <td>「しずかちゃんのはごろも」</td>\n",
       "      <td>2013年4月26日</td>\n",
       "      <td>[　学校で「天女と羽衣（はごろも）」の劇（げき）をやることになったのび太としずか。劇の最後、...</td>\n",
       "      <td>学校で「天女と羽衣（はごろも）」の劇（げき）をやることになったのび太としずか。劇の最後、天...</td>\n",
       "    </tr>\n",
       "  </tbody>\n",
       "</table>\n",
       "</div>"
      ],
      "text/plain": [
       "  index  stories_index                          title broadcasting_date  \\\n",
       "0  0325              0  「映画ドラえもん のび太の新魔界大冒険～７人の魔法使い～」        2013年3月15日   \n",
       "1  0326              0                     「ばくはつコショウ」        2013年4月12日   \n",
       "2  0326              1                    「何が何でもお花見を」        2013年4月12日   \n",
       "3  0327              0                  「やりクリしてハワイ旅行」        2013年4月26日   \n",
       "4  0327              1                  「しずかちゃんのはごろも」        2013年4月26日   \n",
       "\n",
       "                                      abstracts_list  \\\n",
       "0  [　何をやってもうまくいかないのび太は、「魔法（まほう）が使えたら便利で楽しくなるにちがいな...   \n",
       "1  [　ある朝、ねぼうしたのび太に泣きつかれたドラえもんは、『ばくはつコショウ』を取り出す。この...   \n",
       "2  [　みんなから家族でお花見に行った話を聞き、うらやましくてしかたのないのび太。さっそくママに...   \n",
       "3  [　スネ夫からハワイ旅行をじまんされたのび太は、自分もハワイに行きたいとママにたのもうとする...   \n",
       "4  [　学校で「天女と羽衣（はごろも）」の劇（げき）をやることになったのび太としずか。劇の最後、...   \n",
       "\n",
       "                                     abstract_joined  \n",
       "0  　何をやってもうまくいかないのび太は、「魔法（まほう）が使えたら便利で楽しくなるにちがいない...  \n",
       "1  　ある朝、ねぼうしたのび太に泣きつかれたドラえもんは、『ばくはつコショウ』を取り出す。このコ...  \n",
       "2  　みんなから家族でお花見に行った話を聞き、うらやましくてしかたのないのび太。さっそくママにた...  \n",
       "3  　スネ夫からハワイ旅行をじまんされたのび太は、自分もハワイに行きたいとママにたのもうとするが...  \n",
       "4  　学校で「天女と羽衣（はごろも）」の劇（げき）をやることになったのび太としずか。劇の最後、天...  "
      ]
     },
     "execution_count": 3,
     "metadata": {},
     "output_type": "execute_result"
    }
   ],
   "source": [
    "stories_df = pd.DataFrame(stories_json)\n",
    "stories_df[\"abstract_joined\"] = stories_df[\"abstracts_list\"].str.join(\" \")\n",
    "stories_df.head()"
   ]
  },
  {
   "cell_type": "code",
   "execution_count": 4,
   "metadata": {},
   "outputs": [],
   "source": [
    "t = MeCab.Tagger('-d /opt/homebrew/lib/mecab/dic/mecab-ipadic-neologd')\n",
    "def mecab_tokenizer(text):\n",
    "    parsed_lines = t.parse(text).split(\"\\n\")[:-2]\n",
    "    surfaces = [l.split('\\t')[0] for l in parsed_lines]\n",
    "    features = [l.split('\\t')[1] for l in parsed_lines]\n",
    "    # 原型を取得\n",
    "    bases = [f.split(',')[6] for f in features]\n",
    "    # 品詞を取得\n",
    "    pos = [f.split(',')[0] for f in features]\n",
    "\n",
    "    # 各単語を原型に変換する\n",
    "    token_list = [b if b != '*' else s for s, b in zip(surfaces, bases)]\n",
    "    # 品詞を絞り込み\n",
    "    target_pos = [\"名詞\"]\n",
    "    token_list = [t for t, p in zip(token_list, pos) if p in target_pos]\n",
    "    # アルファベットを小文字に統一\n",
    "    token_list = [t.lower() for t in token_list]\n",
    "\n",
    "    return [ text for text in filter(lambda x: not x.isascii(), token_list)]"
   ]
  },
  {
   "cell_type": "code",
   "execution_count": 5,
   "metadata": {},
   "outputs": [
    {
     "name": "stdout",
     "output_type": "stream",
     "text": [
      "0      [何, のび太, 魔法, 魔法, 便利, ちがい, もしもボックス, 現実, 世界, 魔法,...\n",
      "1      [朝, 寝坊, のび太, ドラえもん, 爆発, コショウ, コショウ, 行き先, そば, 人...\n",
      "2      [みんな, 家族, お花見, 話, しかた, のび太, ママ, パパ, ゴルフ, 予定, の...\n",
      "3      [スネ夫, ハワイ旅行, じまん, のび太, 自分, ハワイ, ママ, 給料日, 前, お金...\n",
      "4      [学校, 天女, 羽衣, 羽子, ろ, 劇, げき, こと, のび太, しずか, 劇, 最後...\n",
      "                             ...                        \n",
      "834    [星がきれい, 夜, のび太, スネ夫, 家, 前, 庭, 星空, パーティー, 女の子, ...\n",
      "835    [おなか, 食事, のび太, ご飯, ありがたみ, ママ, のび太, まじめ, 米, パン,...\n",
      "836    [子供達, 鬼ごっこ, の, のび太, 自分たち, 野郎, みんな, ジャイアン, スネ夫,...\n",
      "837    [５, 回, 連続, ０, 点, のび太, 来週, テスト, ０, 点, ママ, 鬼, 顔,...\n",
      "838    [冬, スポーツ, ウインタースポーツ, ランド, のび太, たち, スキー, スケート, ...\n",
      "Name: abstract_joined, Length: 839, dtype: object\n"
     ]
    }
   ],
   "source": [
    "# ストーリーが取得できたものに絞る\n",
    "stories_df = stories_df[stories_df['abstract_joined'].str.len() > 0] \n",
    "sentences = stories_df[\"abstract_joined\"].apply(mecab_tokenizer)\n",
    "print(sentences)"
   ]
  },
  {
   "cell_type": "code",
   "execution_count": 16,
   "metadata": {},
   "outputs": [
    {
     "name": "stdout",
     "output_type": "stream",
     "text": [
      "276    \\r\\n　町内対抗ドッジボール大会を明日にひかえ、空き地で作戦を練るのび太たち。ところが、秘...\n",
      "333    親戚ののび四郎おじさんが、久しぶりに遊びにやってくる。動物写真家のおじさんは、いつも外国を飛...\n",
      "Name: abstract_joined, dtype: object\n"
     ]
    }
   ],
   "source": [
    "# print(stories_df[stories_df[\"abstract_joined\"].str.contains(\"殺\")][\"abstract_joined\"])"
   ]
  },
  {
   "cell_type": "code",
   "execution_count": 6,
   "metadata": {},
   "outputs": [],
   "source": [
    "keywords_dict = {}\n",
    "for keyword_list in sentences.tolist():\n",
    "    for keyword in keyword_list:\n",
    "        if (keyword not in keywords_dict): keywords_dict[keyword] = 1\n",
    "        else: keywords_dict[keyword] = keywords_dict[keyword] + 1\n",
    "\n",
    "keywords_df = pd.DataFrame([{\n",
    "    \"key\": key,\n",
    "    \"val\": val\n",
    "} for key,val in keywords_dict.items()])\n",
    "keywords_df = keywords_df.sort_values(\"val\", ascending=False)\n"
   ]
  },
  {
   "cell_type": "code",
   "execution_count": 7,
   "metadata": {},
   "outputs": [
    {
     "data": {
      "text/html": [
       "<div>\n",
       "<style scoped>\n",
       "    .dataframe tbody tr th:only-of-type {\n",
       "        vertical-align: middle;\n",
       "    }\n",
       "\n",
       "    .dataframe tbody tr th {\n",
       "        vertical-align: top;\n",
       "    }\n",
       "\n",
       "    .dataframe thead th {\n",
       "        text-align: right;\n",
       "    }\n",
       "</style>\n",
       "<table border=\"1\" class=\"dataframe\">\n",
       "  <thead>\n",
       "    <tr style=\"text-align: right;\">\n",
       "      <th></th>\n",
       "      <th>key</th>\n",
       "      <th>val</th>\n",
       "    </tr>\n",
       "  </thead>\n",
       "  <tbody>\n",
       "    <tr>\n",
       "      <th>1</th>\n",
       "      <td>のび太</td>\n",
       "      <td>3916</td>\n",
       "    </tr>\n",
       "    <tr>\n",
       "      <th>34</th>\n",
       "      <td>ドラえもん</td>\n",
       "      <td>2419</td>\n",
       "    </tr>\n",
       "    <tr>\n",
       "      <th>55</th>\n",
       "      <td>こと</td>\n",
       "      <td>1331</td>\n",
       "    </tr>\n",
       "    <tr>\n",
       "      <th>14</th>\n",
       "      <td>の</td>\n",
       "      <td>1241</td>\n",
       "    </tr>\n",
       "    <tr>\n",
       "      <th>42</th>\n",
       "      <td>ジャイアン</td>\n",
       "      <td>997</td>\n",
       "    </tr>\n",
       "    <tr>\n",
       "      <th>...</th>\n",
       "      <td>...</td>\n",
       "      <td>...</td>\n",
       "    </tr>\n",
       "    <tr>\n",
       "      <th>4697</th>\n",
       "      <td>ノビタランド</td>\n",
       "      <td>1</td>\n",
       "    </tr>\n",
       "    <tr>\n",
       "      <th>4699</th>\n",
       "      <td>和菓子屋</td>\n",
       "      <td>1</td>\n",
       "    </tr>\n",
       "    <tr>\n",
       "      <th>3169</th>\n",
       "      <td>舟</td>\n",
       "      <td>1</td>\n",
       "    </tr>\n",
       "    <tr>\n",
       "      <th>3626</th>\n",
       "      <td>春</td>\n",
       "      <td>1</td>\n",
       "    </tr>\n",
       "    <tr>\n",
       "      <th>6373</th>\n",
       "      <td>ょく</td>\n",
       "      <td>1</td>\n",
       "    </tr>\n",
       "  </tbody>\n",
       "</table>\n",
       "<p>6374 rows × 2 columns</p>\n",
       "</div>"
      ],
      "text/plain": [
       "         key   val\n",
       "1        のび太  3916\n",
       "34     ドラえもん  2419\n",
       "55        こと  1331\n",
       "14         の  1241\n",
       "42     ジャイアン   997\n",
       "...      ...   ...\n",
       "4697  ノビタランド     1\n",
       "4699    和菓子屋     1\n",
       "3169       舟     1\n",
       "3626       春     1\n",
       "6373      ょく     1\n",
       "\n",
       "[6374 rows x 2 columns]"
      ]
     },
     "execution_count": 7,
     "metadata": {},
     "output_type": "execute_result"
    }
   ],
   "source": [
    "pd.set_option('display.max_rows', 500)\n",
    "keywords_df"
   ]
  },
  {
   "cell_type": "code",
   "execution_count": 8,
   "metadata": {},
   "outputs": [],
   "source": [
    "import json\n",
    "keywords_df.to_csv('doraemon-word-frequencies.csv')"
   ]
  }
 ],
 "metadata": {
  "kernelspec": {
   "display_name": "Python 3.9.5 64-bit ('3.9.5')",
   "language": "python",
   "name": "python3"
  },
  "language_info": {
   "codemirror_mode": {
    "name": "ipython",
    "version": 3
   },
   "file_extension": ".py",
   "mimetype": "text/x-python",
   "name": "python",
   "nbconvert_exporter": "python",
   "pygments_lexer": "ipython3",
   "version": "3.9.5"
  },
  "orig_nbformat": 4,
  "vscode": {
   "interpreter": {
    "hash": "18a25265ee43aa7e16b48646ef60b281b8e56b39f58e260209b2fb52b666fc14"
   }
  }
 },
 "nbformat": 4,
 "nbformat_minor": 2
}
