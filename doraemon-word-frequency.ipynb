{
 "cells": [
  {
   "cell_type": "code",
   "execution_count": 20,
   "metadata": {},
   "outputs": [],
   "source": [
    "import json\n",
    "import pandas as pd\n",
    "import MeCab"
   ]
  },
  {
   "cell_type": "code",
   "execution_count": 21,
   "metadata": {},
   "outputs": [
    {
     "name": "stdout",
     "output_type": "stream",
     "text": [
      "839\n",
      "dict_keys(['index', 'stories_index', 'title', 'broadcasting_date', 'abstracts_list'])\n"
     ]
    }
   ],
   "source": [
    "stories_json = []\n",
    "with open('./output_stories_0123.json', 'r') as f:\n",
    "    stories_json = stories_json + json.loads(f.read())\n",
    "\n",
    "print(len(stories_json))\n",
    "print(stories_json[1].keys())"
   ]
  },
  {
   "cell_type": "code",
   "execution_count": 22,
   "metadata": {},
   "outputs": [
    {
     "data": {
      "text/html": [
       "<div>\n",
       "<style scoped>\n",
       "    .dataframe tbody tr th:only-of-type {\n",
       "        vertical-align: middle;\n",
       "    }\n",
       "\n",
       "    .dataframe tbody tr th {\n",
       "        vertical-align: top;\n",
       "    }\n",
       "\n",
       "    .dataframe thead th {\n",
       "        text-align: right;\n",
       "    }\n",
       "</style>\n",
       "<table border=\"1\" class=\"dataframe\">\n",
       "  <thead>\n",
       "    <tr style=\"text-align: right;\">\n",
       "      <th></th>\n",
       "      <th>index</th>\n",
       "      <th>stories_index</th>\n",
       "      <th>title</th>\n",
       "      <th>broadcasting_date</th>\n",
       "      <th>abstracts_list</th>\n",
       "      <th>abstract_joined</th>\n",
       "    </tr>\n",
       "  </thead>\n",
       "  <tbody>\n",
       "    <tr>\n",
       "      <th>0</th>\n",
       "      <td>0325</td>\n",
       "      <td>0</td>\n",
       "      <td>「映画ドラえもん のび太の新魔界大冒険～７人の魔法使い～」</td>\n",
       "      <td>2013年3月15日</td>\n",
       "      <td>[　何をやってもうまくいかないのび太は、「魔法（まほう）が使えたら便利で楽しくなるにちがいな...</td>\n",
       "      <td>何をやってもうまくいかないのび太は、「魔法（まほう）が使えたら便利で楽しくなるにちがいない...</td>\n",
       "    </tr>\n",
       "    <tr>\n",
       "      <th>1</th>\n",
       "      <td>0326</td>\n",
       "      <td>0</td>\n",
       "      <td>「ばくはつコショウ」</td>\n",
       "      <td>2013年4月12日</td>\n",
       "      <td>[　ある朝、ねぼうしたのび太に泣きつかれたドラえもんは、『ばくはつコショウ』を取り出す。この...</td>\n",
       "      <td>ある朝、ねぼうしたのび太に泣きつかれたドラえもんは、『ばくはつコショウ』を取り出す。このコ...</td>\n",
       "    </tr>\n",
       "    <tr>\n",
       "      <th>2</th>\n",
       "      <td>0326</td>\n",
       "      <td>1</td>\n",
       "      <td>「何が何でもお花見を」</td>\n",
       "      <td>2013年4月12日</td>\n",
       "      <td>[　みんなから家族でお花見に行った話を聞き、うらやましくてしかたのないのび太。さっそくママに...</td>\n",
       "      <td>みんなから家族でお花見に行った話を聞き、うらやましくてしかたのないのび太。さっそくママにた...</td>\n",
       "    </tr>\n",
       "    <tr>\n",
       "      <th>3</th>\n",
       "      <td>0327</td>\n",
       "      <td>0</td>\n",
       "      <td>「やりクリしてハワイ旅行」</td>\n",
       "      <td>2013年4月26日</td>\n",
       "      <td>[　スネ夫からハワイ旅行をじまんされたのび太は、自分もハワイに行きたいとママにたのもうとする...</td>\n",
       "      <td>スネ夫からハワイ旅行をじまんされたのび太は、自分もハワイに行きたいとママにたのもうとするが...</td>\n",
       "    </tr>\n",
       "    <tr>\n",
       "      <th>4</th>\n",
       "      <td>0327</td>\n",
       "      <td>1</td>\n",
       "      <td>「しずかちゃんのはごろも」</td>\n",
       "      <td>2013年4月26日</td>\n",
       "      <td>[　学校で「天女と羽衣（はごろも）」の劇（げき）をやることになったのび太としずか。劇の最後、...</td>\n",
       "      <td>学校で「天女と羽衣（はごろも）」の劇（げき）をやることになったのび太としずか。劇の最後、天...</td>\n",
       "    </tr>\n",
       "  </tbody>\n",
       "</table>\n",
       "</div>"
      ],
      "text/plain": [
       "  index  stories_index                          title broadcasting_date  \\\n",
       "0  0325              0  「映画ドラえもん のび太の新魔界大冒険～７人の魔法使い～」        2013年3月15日   \n",
       "1  0326              0                     「ばくはつコショウ」        2013年4月12日   \n",
       "2  0326              1                    「何が何でもお花見を」        2013年4月12日   \n",
       "3  0327              0                  「やりクリしてハワイ旅行」        2013年4月26日   \n",
       "4  0327              1                  「しずかちゃんのはごろも」        2013年4月26日   \n",
       "\n",
       "                                      abstracts_list  \\\n",
       "0  [　何をやってもうまくいかないのび太は、「魔法（まほう）が使えたら便利で楽しくなるにちがいな...   \n",
       "1  [　ある朝、ねぼうしたのび太に泣きつかれたドラえもんは、『ばくはつコショウ』を取り出す。この...   \n",
       "2  [　みんなから家族でお花見に行った話を聞き、うらやましくてしかたのないのび太。さっそくママに...   \n",
       "3  [　スネ夫からハワイ旅行をじまんされたのび太は、自分もハワイに行きたいとママにたのもうとする...   \n",
       "4  [　学校で「天女と羽衣（はごろも）」の劇（げき）をやることになったのび太としずか。劇の最後、...   \n",
       "\n",
       "                                     abstract_joined  \n",
       "0  　何をやってもうまくいかないのび太は、「魔法（まほう）が使えたら便利で楽しくなるにちがいない...  \n",
       "1  　ある朝、ねぼうしたのび太に泣きつかれたドラえもんは、『ばくはつコショウ』を取り出す。このコ...  \n",
       "2  　みんなから家族でお花見に行った話を聞き、うらやましくてしかたのないのび太。さっそくママにた...  \n",
       "3  　スネ夫からハワイ旅行をじまんされたのび太は、自分もハワイに行きたいとママにたのもうとするが...  \n",
       "4  　学校で「天女と羽衣（はごろも）」の劇（げき）をやることになったのび太としずか。劇の最後、天...  "
      ]
     },
     "execution_count": 22,
     "metadata": {},
     "output_type": "execute_result"
    }
   ],
   "source": [
    "stories_df = pd.DataFrame(stories_json)\n",
    "stories_df[\"abstract_joined\"] = stories_df[\"abstracts_list\"].str.join(\" \")\n",
    "stories_df.head()"
   ]
  },
  {
   "cell_type": "code",
   "execution_count": 23,
   "metadata": {},
   "outputs": [],
   "source": [
    "t = MeCab.Tagger('-d /opt/homebrew/lib/mecab/dic/mecab-ipadic-neologd')\n",
    "def mecab_tokenizer(text):\n",
    "    parsed_lines = t.parse(text).split(\"\\n\")[:-2]\n",
    "    surfaces = [l.split('\\t')[0] for l in parsed_lines]\n",
    "    features = [l.split('\\t')[1] for l in parsed_lines]\n",
    "    # 原型を取得\n",
    "    bases = [f.split(',')[6] for f in features]\n",
    "    # 品詞を取得\n",
    "    pos = [f.split(',')[0] for f in features]\n",
    "\n",
    "    # 各単語を原型に変換する\n",
    "    token_list = [b if b != '*' else s for s, b in zip(surfaces, bases)]\n",
    "    # 品詞を絞り込み\n",
    "    target_pos = [\"名詞\"]\n",
    "    token_list = [t for t, p in zip(token_list, pos) if p in target_pos]\n",
    "    # アルファベットを小文字に統一\n",
    "    token_list = [t.lower() for t in token_list]\n",
    "\n",
    "    return [ text for text in filter(lambda x: not x.isascii(), token_list)]\n",
    "\n",
    "wt = MeCab.Tagger('-Owakati')\n",
    "def mecab_tokenizer_wakachi(text):\n",
    "    return wt.parse(text).split(\" \")"
   ]
  },
  {
   "cell_type": "code",
   "execution_count": 24,
   "metadata": {},
   "outputs": [
    {
     "name": "stdout",
     "output_type": "stream",
     "text": [
      "0      [日, とともに, 元, \\r, ！, ほう, 族, どんどん, 何, 戻そ, や, 美夜子...\n",
      "1      [朝, 泣きつか, 一生, さっそく, \\r, ！, とっ, せい, の, ながら, 出, ...\n",
      "2      [あやつり, さっそく, 宣言, \\r, みる, ！, 向かう, お, あり, キャンセル,...\n",
      "3      [日, さっそく, はじめ, \\r, と, ！, みごと, や, スネ, の, 言い出せ, ...\n",
      "4      [外し, さっそく, なっ, なら, 言い, \\r, 空, ！, ほう, よろこび, 山菜,...\n",
      "                             ...                        \n",
      "834    [たち, 庭, モテ, ！, 相手, そう, 何, スネ, の, ながら, 夜, ）, うか...\n",
      "835    [じゃ, なっ, 言い, 急, なかなか, おす, 言っ, ！, 強がる, お, あり, の...\n",
      "836    [風呂敷, たち, 遊び, きり, ごっこ, はっ, ！, ど, お, や, チーム, 満点...\n",
      "837    [取っ, なっ, 言い, おそう, 青ざめ, みる, 言っ, ！, そう, 連続, 今度, ...\n",
      "838    [たち, さっそく, なっ, 動か, ロボット, 夕方, もどっ, ！, 雪だるま, すごす...\n",
      "Name: abstract_joined, Length: 839, dtype: object\n",
      "0      [日, とともに, 元, \\r, ！, ほう, 族, どんどん, 何, 戻そ, や, 美夜子...\n",
      "1      [朝, 泣きつか, 一生, さっそく, \\r, ！, とっ, せい, の, ながら, 出, ...\n",
      "2      [あやつり, さっそく, 宣言, \\r, みる, ！, 向かう, お, あり, キャンセル,...\n",
      "3      [日, さっそく, はじめ, \\r, と, ！, みごと, や, スネ, の, 言い出せ, ...\n",
      "4      [外し, さっそく, なっ, なら, 言い, \\r, 空, ！, ほう, よろこび, 山菜,...\n",
      "                             ...                        \n",
      "834    [たち, 庭, モテ, ！, 相手, そう, 何, スネ, の, ながら, 夜, ）, うか...\n",
      "835    [じゃ, なっ, 言い, 急, なかなか, おす, 言っ, ！, 強がる, お, あり, の...\n",
      "836    [風呂敷, たち, 遊び, きり, ごっこ, はっ, ！, ど, お, や, チーム, 満点...\n",
      "837    [取っ, なっ, 言い, おそう, 青ざめ, みる, 言っ, ！, そう, 連続, 今度, ...\n",
      "838    [たち, さっそく, なっ, 動か, ロボット, 夕方, もどっ, ！, 雪だるま, すごす...\n",
      "Name: abstract_joined, Length: 839, dtype: object\n"
     ]
    }
   ],
   "source": [
    "# ストーリーが取得できたものに絞る\n",
    "stories_df = stories_df[stories_df['abstract_joined'].str.len() > 0] \n",
    "sentences = stories_df[\"abstract_joined\"].apply(mecab_tokenizer_wakachi).apply(set).apply(list)\n",
    "print(sentences)\n",
    "print(sentences)"
   ]
  },
  {
   "cell_type": "code",
   "execution_count": 29,
   "metadata": {},
   "outputs": [
    {
     "name": "stdout",
     "output_type": "stream",
     "text": [
      "100    \\r\\n　今日はドラえもんの誕生日。ドラえもんをおどろかせるようなものをプレゼントしたいと考...\n",
      "Name: abstract_joined, dtype: object\n"
     ]
    }
   ],
   "source": [
    "print(stories_df[stories_df[\"abstract_joined\"].str.contains(\"凶悪\")][\"abstract_joined\"])"
   ]
  },
  {
   "cell_type": "code",
   "execution_count": 26,
   "metadata": {},
   "outputs": [],
   "source": [
    "keywords_dict = {}\n",
    "for keyword_list in sentences.tolist():\n",
    "    for keyword in keyword_list:\n",
    "        if (keyword not in keywords_dict): keywords_dict[keyword] = 1\n",
    "        else: keywords_dict[keyword] = keywords_dict[keyword] + 1\n",
    "\n",
    "keywords_df = pd.DataFrame([{\n",
    "    \"key\": key,\n",
    "    \"val\": val\n",
    "} for key,val in keywords_dict.items()])\n",
    "keywords_df = keywords_df.sort_values(\"val\", ascending=False)\n"
   ]
  },
  {
   "cell_type": "code",
   "execution_count": 27,
   "metadata": {},
   "outputs": [
    {
     "data": {
      "text/html": [
       "<div>\n",
       "<style scoped>\n",
       "    .dataframe tbody tr th:only-of-type {\n",
       "        vertical-align: middle;\n",
       "    }\n",
       "\n",
       "    .dataframe tbody tr th {\n",
       "        vertical-align: top;\n",
       "    }\n",
       "\n",
       "    .dataframe thead th {\n",
       "        text-align: right;\n",
       "    }\n",
       "</style>\n",
       "<table border=\"1\" class=\"dataframe\">\n",
       "  <thead>\n",
       "    <tr style=\"text-align: right;\">\n",
       "      <th></th>\n",
       "      <th>key</th>\n",
       "      <th>val</th>\n",
       "    </tr>\n",
       "  </thead>\n",
       "  <tbody>\n",
       "    <tr>\n",
       "      <th>82</th>\n",
       "      <td>を</td>\n",
       "      <td>839</td>\n",
       "    </tr>\n",
       "    <tr>\n",
       "      <th>116</th>\n",
       "      <td>た</td>\n",
       "      <td>839</td>\n",
       "    </tr>\n",
       "    <tr>\n",
       "      <th>15</th>\n",
       "      <td>の</td>\n",
       "      <td>839</td>\n",
       "    </tr>\n",
       "    <tr>\n",
       "      <th>105</th>\n",
       "      <td>、</td>\n",
       "      <td>839</td>\n",
       "    </tr>\n",
       "    <tr>\n",
       "      <th>53</th>\n",
       "      <td></td>\n",
       "      <td>839</td>\n",
       "    </tr>\n",
       "    <tr>\n",
       "      <th>...</th>\n",
       "      <td>...</td>\n",
       "      <td>...</td>\n",
       "    </tr>\n",
       "    <tr>\n",
       "      <th>6478</th>\n",
       "      <td>温め</td>\n",
       "      <td>1</td>\n",
       "    </tr>\n",
       "    <tr>\n",
       "      <th>2847</th>\n",
       "      <td>発進</td>\n",
       "      <td>1</td>\n",
       "    </tr>\n",
       "    <tr>\n",
       "      <th>2852</th>\n",
       "      <td>スイムドリンク</td>\n",
       "      <td>1</td>\n",
       "    </tr>\n",
       "    <tr>\n",
       "      <th>6474</th>\n",
       "      <td>のり</td>\n",
       "      <td>1</td>\n",
       "    </tr>\n",
       "    <tr>\n",
       "      <th>9697</th>\n",
       "      <td>いり</td>\n",
       "      <td>1</td>\n",
       "    </tr>\n",
       "  </tbody>\n",
       "</table>\n",
       "<p>9698 rows × 2 columns</p>\n",
       "</div>"
      ],
      "text/plain": [
       "          key  val\n",
       "82          を  839\n",
       "116         た  839\n",
       "15          の  839\n",
       "105         、  839\n",
       "53          　  839\n",
       "...       ...  ...\n",
       "6478       温め    1\n",
       "2847       発進    1\n",
       "2852  スイムドリンク    1\n",
       "6474       のり    1\n",
       "9697       いり    1\n",
       "\n",
       "[9698 rows x 2 columns]"
      ]
     },
     "execution_count": 27,
     "metadata": {},
     "output_type": "execute_result"
    }
   ],
   "source": [
    "pd.set_option('display.max_rows', 500)\n",
    "keywords_df"
   ]
  },
  {
   "cell_type": "code",
   "execution_count": 28,
   "metadata": {},
   "outputs": [],
   "source": [
    "import json\n",
    "keywords_df.to_csv('doraemon-word-frequencies.csv')"
   ]
  }
 ],
 "metadata": {
  "kernelspec": {
   "display_name": "Python 3.9.5 64-bit ('3.9.5')",
   "language": "python",
   "name": "python3"
  },
  "language_info": {
   "codemirror_mode": {
    "name": "ipython",
    "version": 3
   },
   "file_extension": ".py",
   "mimetype": "text/x-python",
   "name": "python",
   "nbconvert_exporter": "python",
   "pygments_lexer": "ipython3",
   "version": "3.9.5"
  },
  "orig_nbformat": 4,
  "vscode": {
   "interpreter": {
    "hash": "18a25265ee43aa7e16b48646ef60b281b8e56b39f58e260209b2fb52b666fc14"
   }
  }
 },
 "nbformat": 4,
 "nbformat_minor": 2
}
